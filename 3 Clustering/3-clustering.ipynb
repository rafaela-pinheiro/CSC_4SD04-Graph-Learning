{
 "cells": [
  {
   "cell_type": "markdown",
   "metadata": {},
   "source": [
    "# Graph Learning\n",
    "## Lab 3: Clustering\n",
    "\n",
    "In this lab, you will learn to cluster a graph by Louvain and interpret the results. "
   ]
  },
  {
   "cell_type": "markdown",
   "metadata": {},
   "source": [
    "<div style=\"border: 1px solid white; padding: 10px; display: inline-block; max-width: 98%; box-sizing: border-box; word-wrap: break-word;\">\n",
    "<bold>Done in pair:</bold> \n",
    "<br>\n",
    "Rafaela de Carvalho Machado Pinheiro \n",
    "<br>\n",
    "Bárbara Barsi Duarte Batista da Silva\n",
    "</div>"
   ]
  },
  {
   "cell_type": "markdown",
   "metadata": {},
   "source": [
    "## Import"
   ]
  },
  {
   "cell_type": "code",
   "execution_count": 1,
   "metadata": {},
   "outputs": [],
   "source": [
    "from IPython.display import SVG"
   ]
  },
  {
   "cell_type": "code",
   "execution_count": 2,
   "metadata": {},
   "outputs": [],
   "source": [
    "import numpy as np\n",
    "from scipy import sparse"
   ]
  },
  {
   "cell_type": "code",
   "execution_count": 3,
   "metadata": {},
   "outputs": [],
   "source": [
    "from sknetwork.data import load_netset, grid, karate_club\n",
    "from sknetwork.clustering import Louvain, get_modularity\n",
    "from sknetwork.ranking import PageRank\n",
    "from sknetwork.visualization import visualize_graph"
   ]
  },
  {
   "cell_type": "markdown",
   "metadata": {},
   "source": [
    "## Data"
   ]
  },
  {
   "cell_type": "markdown",
   "metadata": {},
   "source": [
    "We will work on the following graphs (see the [NetSet](https://netset.telecom-paris.fr/) collection for details):\n",
    "* Openflights (graph)\n",
    "* WikiVitals (directed graph)\n",
    "* Cinema (bipartite graph)"
   ]
  },
  {
   "cell_type": "code",
   "execution_count": 4,
   "metadata": {},
   "outputs": [
    {
     "name": "stdout",
     "output_type": "stream",
     "text": [
      "Parsing files...\n",
      "Done.\n",
      "Parsing files...\n",
      "Done.\n",
      "Parsing files...\n",
      "Done.\n"
     ]
    }
   ],
   "source": [
    "openflights = load_netset('openflights')\n",
    "wikivitals = load_netset('wikivitals')\n",
    "cinema = load_netset('cinema')"
   ]
  },
  {
   "cell_type": "markdown",
   "metadata": {},
   "source": [
    "## 1. Graphs\n",
    "\n",
    "The Louvain algorithm aims at maximizing [modularity](https://en.wikipedia.org/wiki/Modularity_(networks))."
   ]
  },
  {
   "cell_type": "markdown",
   "metadata": {},
   "source": [
    "## Grid"
   ]
  },
  {
   "cell_type": "markdown",
   "metadata": {},
   "source": [
    "Consider a grid:"
   ]
  },
  {
   "cell_type": "code",
   "execution_count": 5,
   "metadata": {},
   "outputs": [],
   "source": [
    "dataset = grid(9, 9, True)\n",
    "adjacency = dataset.adjacency\n",
    "position = dataset.position"
   ]
  },
  {
   "cell_type": "code",
   "execution_count": 6,
   "metadata": {},
   "outputs": [
    {
     "data": {
      "image/svg+xml": [
       "<svg xmlns=\"http://www.w3.org/2000/svg\" width=\"240\" height=\"240\">\n",
       "<path stroke-width=\"1\" stroke=\"black\" d=\"M 220 70 195 70\"/>\n",
       "<path stroke-width=\"1\" stroke=\"black\" d=\"M 220 70 220 95\"/>\n",
       "<path stroke-width=\"1\" stroke=\"black\" d=\"M 220 70 220 45\"/>\n",
       "<path stroke-width=\"1\" stroke=\"black\" d=\"M 220 45 195 45\"/>\n",
       "<path stroke-width=\"1\" stroke=\"black\" d=\"M 220 45 220 70\"/>\n",
       "<path stroke-width=\"1\" stroke=\"black\" d=\"M 220 45 220 20\"/>\n",
       "<path stroke-width=\"1\" stroke=\"black\" d=\"M 220 20 195 20\"/>\n",
       "<path stroke-width=\"1\" stroke=\"black\" d=\"M 220 20 220 45\"/>\n",
       "<path stroke-width=\"1\" stroke=\"black\" d=\"M 220 145 220 170\"/>\n",
       "<path stroke-width=\"1\" stroke=\"black\" d=\"M 220 145 220 120\"/>\n",
       "<path stroke-width=\"1\" stroke=\"black\" d=\"M 220 120 195 120\"/>\n",
       "<path stroke-width=\"1\" stroke=\"black\" d=\"M 220 120 220 145\"/>\n",
       "<path stroke-width=\"1\" stroke=\"black\" d=\"M 220 120 220 95\"/>\n",
       "<path stroke-width=\"1\" stroke=\"black\" d=\"M 220 95 195 95\"/>\n",
       "<path stroke-width=\"1\" stroke=\"black\" d=\"M 220 95 220 120\"/>\n",
       "<path stroke-width=\"1\" stroke=\"black\" d=\"M 220 95 220 70\"/>\n",
       "<path stroke-width=\"1\" stroke=\"black\" d=\"M 220 220 220 195\"/>\n",
       "<path stroke-width=\"1\" stroke=\"black\" d=\"M 220 195 195 195\"/>\n",
       "<path stroke-width=\"1\" stroke=\"black\" d=\"M 220 195 220 220\"/>\n",
       "<path stroke-width=\"1\" stroke=\"black\" d=\"M 220 195 220 170\"/>\n",
       "<path stroke-width=\"1\" stroke=\"black\" d=\"M 220 170 195 170\"/>\n",
       "<path stroke-width=\"1\" stroke=\"black\" d=\"M 220 170 220 195\"/>\n",
       "<path stroke-width=\"1\" stroke=\"black\" d=\"M 220 170 220 145\"/>\n",
       "<path stroke-width=\"1\" stroke=\"black\" d=\"M 220 145 195 145\"/>\n",
       "<path stroke-width=\"1\" stroke=\"black\" d=\"M 195 45 170 45\"/>\n",
       "<path stroke-width=\"1\" stroke=\"black\" d=\"M 195 45 195 70\"/>\n",
       "<path stroke-width=\"1\" stroke=\"black\" d=\"M 195 45 195 20\"/>\n",
       "<path stroke-width=\"1\" stroke=\"black\" d=\"M 195 45 220 45\"/>\n",
       "<path stroke-width=\"1\" stroke=\"black\" d=\"M 195 20 170 20\"/>\n",
       "<path stroke-width=\"1\" stroke=\"black\" d=\"M 195 20 195 45\"/>\n",
       "<path stroke-width=\"1\" stroke=\"black\" d=\"M 195 20 220 20\"/>\n",
       "<path stroke-width=\"1\" stroke=\"black\" d=\"M 220 220 195 220\"/>\n",
       "<path stroke-width=\"1\" stroke=\"black\" d=\"M 20 20 45 20\"/>\n",
       "<path stroke-width=\"1\" stroke=\"black\" d=\"M 45 220 20 220\"/>\n",
       "<path stroke-width=\"1\" stroke=\"black\" d=\"M 45 220 45 195\"/>\n",
       "<path stroke-width=\"1\" stroke=\"black\" d=\"M 45 220 70 220\"/>\n",
       "<path stroke-width=\"1\" stroke=\"black\" d=\"M 45 195 20 195\"/>\n",
       "<path stroke-width=\"1\" stroke=\"black\" d=\"M 45 195 45 220\"/>\n",
       "<path stroke-width=\"1\" stroke=\"black\" d=\"M 45 195 45 170\"/>\n",
       "<path stroke-width=\"1\" stroke=\"black\" d=\"M 45 195 70 195\"/>\n",
       "<path stroke-width=\"1\" stroke=\"black\" d=\"M 20 95 45 95\"/>\n",
       "<path stroke-width=\"1\" stroke=\"black\" d=\"M 20 70 20 95\"/>\n",
       "<path stroke-width=\"1\" stroke=\"black\" d=\"M 20 70 20 45\"/>\n",
       "<path stroke-width=\"1\" stroke=\"black\" d=\"M 20 70 45 70\"/>\n",
       "<path stroke-width=\"1\" stroke=\"black\" d=\"M 20 45 20 70\"/>\n",
       "<path stroke-width=\"1\" stroke=\"black\" d=\"M 20 45 20 20\"/>\n",
       "<path stroke-width=\"1\" stroke=\"black\" d=\"M 20 45 45 45\"/>\n",
       "<path stroke-width=\"1\" stroke=\"black\" d=\"M 20 20 20 45\"/>\n",
       "<path stroke-width=\"1\" stroke=\"black\" d=\"M 20 145 20 170\"/>\n",
       "<path stroke-width=\"1\" stroke=\"black\" d=\"M 20 145 20 120\"/>\n",
       "<path stroke-width=\"1\" stroke=\"black\" d=\"M 20 145 45 145\"/>\n",
       "<path stroke-width=\"1\" stroke=\"black\" d=\"M 20 120 20 145\"/>\n",
       "<path stroke-width=\"1\" stroke=\"black\" d=\"M 20 120 20 95\"/>\n",
       "<path stroke-width=\"1\" stroke=\"black\" d=\"M 20 120 45 120\"/>\n",
       "<path stroke-width=\"1\" stroke=\"black\" d=\"M 20 95 20 120\"/>\n",
       "<path stroke-width=\"1\" stroke=\"black\" d=\"M 20 95 20 70\"/>\n",
       "<path stroke-width=\"1\" stroke=\"black\" d=\"M 20 220 20 195\"/>\n",
       "<path stroke-width=\"1\" stroke=\"black\" d=\"M 20 220 45 220\"/>\n",
       "<path stroke-width=\"1\" stroke=\"black\" d=\"M 20 195 20 220\"/>\n",
       "<path stroke-width=\"1\" stroke=\"black\" d=\"M 20 195 20 170\"/>\n",
       "<path stroke-width=\"1\" stroke=\"black\" d=\"M 20 195 45 195\"/>\n",
       "<path stroke-width=\"1\" stroke=\"black\" d=\"M 20 170 20 195\"/>\n",
       "<path stroke-width=\"1\" stroke=\"black\" d=\"M 20 170 20 145\"/>\n",
       "<path stroke-width=\"1\" stroke=\"black\" d=\"M 20 170 45 170\"/>\n",
       "<path stroke-width=\"1\" stroke=\"black\" d=\"M 70 45 70 20\"/>\n",
       "<path stroke-width=\"1\" stroke=\"black\" d=\"M 70 45 95 45\"/>\n",
       "<path stroke-width=\"1\" stroke=\"black\" d=\"M 70 20 45 20\"/>\n",
       "<path stroke-width=\"1\" stroke=\"black\" d=\"M 70 20 70 45\"/>\n",
       "<path stroke-width=\"1\" stroke=\"black\" d=\"M 70 20 95 20\"/>\n",
       "<path stroke-width=\"1\" stroke=\"black\" d=\"M 95 220 70 220\"/>\n",
       "<path stroke-width=\"1\" stroke=\"black\" d=\"M 95 220 95 195\"/>\n",
       "<path stroke-width=\"1\" stroke=\"black\" d=\"M 95 220 120 220\"/>\n",
       "<path stroke-width=\"1\" stroke=\"black\" d=\"M 70 95 70 70\"/>\n",
       "<path stroke-width=\"1\" stroke=\"black\" d=\"M 70 95 95 95\"/>\n",
       "<path stroke-width=\"1\" stroke=\"black\" d=\"M 70 70 45 70\"/>\n",
       "<path stroke-width=\"1\" stroke=\"black\" d=\"M 70 70 70 95\"/>\n",
       "<path stroke-width=\"1\" stroke=\"black\" d=\"M 70 70 70 45\"/>\n",
       "<path stroke-width=\"1\" stroke=\"black\" d=\"M 70 70 95 70\"/>\n",
       "<path stroke-width=\"1\" stroke=\"black\" d=\"M 70 45 45 45\"/>\n",
       "<path stroke-width=\"1\" stroke=\"black\" d=\"M 70 45 70 70\"/>\n",
       "<path stroke-width=\"1\" stroke=\"black\" d=\"M 70 145 70 120\"/>\n",
       "<path stroke-width=\"1\" stroke=\"black\" d=\"M 70 145 95 145\"/>\n",
       "<path stroke-width=\"1\" stroke=\"black\" d=\"M 70 120 45 120\"/>\n",
       "<path stroke-width=\"1\" stroke=\"black\" d=\"M 70 120 70 145\"/>\n",
       "<path stroke-width=\"1\" stroke=\"black\" d=\"M 70 120 70 95\"/>\n",
       "<path stroke-width=\"1\" stroke=\"black\" d=\"M 70 120 95 120\"/>\n",
       "<path stroke-width=\"1\" stroke=\"black\" d=\"M 70 95 45 95\"/>\n",
       "<path stroke-width=\"1\" stroke=\"black\" d=\"M 70 95 70 120\"/>\n",
       "<path stroke-width=\"1\" stroke=\"black\" d=\"M 70 195 70 170\"/>\n",
       "<path stroke-width=\"1\" stroke=\"black\" d=\"M 70 195 95 195\"/>\n",
       "<path stroke-width=\"1\" stroke=\"black\" d=\"M 70 170 45 170\"/>\n",
       "<path stroke-width=\"1\" stroke=\"black\" d=\"M 70 170 70 195\"/>\n",
       "<path stroke-width=\"1\" stroke=\"black\" d=\"M 70 170 70 145\"/>\n",
       "<path stroke-width=\"1\" stroke=\"black\" d=\"M 70 170 95 170\"/>\n",
       "<path stroke-width=\"1\" stroke=\"black\" d=\"M 70 145 45 145\"/>\n",
       "<path stroke-width=\"1\" stroke=\"black\" d=\"M 70 145 70 170\"/>\n",
       "<path stroke-width=\"1\" stroke=\"black\" d=\"M 95 45 70 45\"/>\n",
       "<path stroke-width=\"1\" stroke=\"black\" d=\"M 95 45 95 70\"/>\n",
       "<path stroke-width=\"1\" stroke=\"black\" d=\"M 95 45 95 20\"/>\n",
       "<path stroke-width=\"1\" stroke=\"black\" d=\"M 95 45 120 45\"/>\n",
       "<path stroke-width=\"1\" stroke=\"black\" d=\"M 95 20 70 20\"/>\n",
       "<path stroke-width=\"1\" stroke=\"black\" d=\"M 95 20 95 45\"/>\n",
       "<path stroke-width=\"1\" stroke=\"black\" d=\"M 95 20 120 20\"/>\n",
       "<path stroke-width=\"1\" stroke=\"black\" d=\"M 120 220 95 220\"/>\n",
       "<path stroke-width=\"1\" stroke=\"black\" d=\"M 95 95 70 95\"/>\n",
       "<path stroke-width=\"1\" stroke=\"black\" d=\"M 95 95 95 120\"/>\n",
       "<path stroke-width=\"1\" stroke=\"black\" d=\"M 95 95 95 70\"/>\n",
       "<path stroke-width=\"1\" stroke=\"black\" d=\"M 95 95 120 95\"/>\n",
       "<path stroke-width=\"1\" stroke=\"black\" d=\"M 95 70 70 70\"/>\n",
       "<path stroke-width=\"1\" stroke=\"black\" d=\"M 95 70 95 95\"/>\n",
       "<path stroke-width=\"1\" stroke=\"black\" d=\"M 95 70 95 45\"/>\n",
       "<path stroke-width=\"1\" stroke=\"black\" d=\"M 95 70 120 70\"/>\n",
       "<path stroke-width=\"1\" stroke=\"black\" d=\"M 95 145 70 145\"/>\n",
       "<path stroke-width=\"1\" stroke=\"black\" d=\"M 95 145 95 170\"/>\n",
       "<path stroke-width=\"1\" stroke=\"black\" d=\"M 95 145 95 120\"/>\n",
       "<path stroke-width=\"1\" stroke=\"black\" d=\"M 95 145 120 145\"/>\n",
       "<path stroke-width=\"1\" stroke=\"black\" d=\"M 95 120 70 120\"/>\n",
       "<path stroke-width=\"1\" stroke=\"black\" d=\"M 95 120 95 145\"/>\n",
       "<path stroke-width=\"1\" stroke=\"black\" d=\"M 95 120 95 95\"/>\n",
       "<path stroke-width=\"1\" stroke=\"black\" d=\"M 95 120 120 120\"/>\n",
       "<path stroke-width=\"1\" stroke=\"black\" d=\"M 95 195 70 195\"/>\n",
       "<path stroke-width=\"1\" stroke=\"black\" d=\"M 95 195 95 220\"/>\n",
       "<path stroke-width=\"1\" stroke=\"black\" d=\"M 95 195 95 170\"/>\n",
       "<path stroke-width=\"1\" stroke=\"black\" d=\"M 95 195 120 195\"/>\n",
       "<path stroke-width=\"1\" stroke=\"black\" d=\"M 95 170 70 170\"/>\n",
       "<path stroke-width=\"1\" stroke=\"black\" d=\"M 95 170 95 195\"/>\n",
       "<path stroke-width=\"1\" stroke=\"black\" d=\"M 95 170 95 145\"/>\n",
       "<path stroke-width=\"1\" stroke=\"black\" d=\"M 95 170 120 170\"/>\n",
       "<path stroke-width=\"1\" stroke=\"black\" d=\"M 120 70 120 45\"/>\n",
       "<path stroke-width=\"1\" stroke=\"black\" d=\"M 120 70 145 70\"/>\n",
       "<path stroke-width=\"1\" stroke=\"black\" d=\"M 120 45 95 45\"/>\n",
       "<path stroke-width=\"1\" stroke=\"black\" d=\"M 120 45 120 70\"/>\n",
       "<path stroke-width=\"1\" stroke=\"black\" d=\"M 120 45 120 20\"/>\n",
       "<path stroke-width=\"1\" stroke=\"black\" d=\"M 120 45 145 45\"/>\n",
       "<path stroke-width=\"1\" stroke=\"black\" d=\"M 120 20 95 20\"/>\n",
       "<path stroke-width=\"1\" stroke=\"black\" d=\"M 120 20 120 45\"/>\n",
       "<path stroke-width=\"1\" stroke=\"black\" d=\"M 120 120 120 95\"/>\n",
       "<path stroke-width=\"1\" stroke=\"black\" d=\"M 120 120 145 120\"/>\n",
       "<path stroke-width=\"1\" stroke=\"black\" d=\"M 120 95 95 95\"/>\n",
       "<path stroke-width=\"1\" stroke=\"black\" d=\"M 120 95 120 120\"/>\n",
       "<path stroke-width=\"1\" stroke=\"black\" d=\"M 120 95 120 70\"/>\n",
       "<path stroke-width=\"1\" stroke=\"black\" d=\"M 120 95 145 95\"/>\n",
       "<path stroke-width=\"1\" stroke=\"black\" d=\"M 120 70 95 70\"/>\n",
       "<path stroke-width=\"1\" stroke=\"black\" d=\"M 120 70 120 95\"/>\n",
       "<path stroke-width=\"1\" stroke=\"black\" d=\"M 120 170 120 145\"/>\n",
       "<path stroke-width=\"1\" stroke=\"black\" d=\"M 120 170 145 170\"/>\n",
       "<path stroke-width=\"1\" stroke=\"black\" d=\"M 120 145 95 145\"/>\n",
       "<path stroke-width=\"1\" stroke=\"black\" d=\"M 120 145 120 170\"/>\n",
       "<path stroke-width=\"1\" stroke=\"black\" d=\"M 120 145 120 120\"/>\n",
       "<path stroke-width=\"1\" stroke=\"black\" d=\"M 120 145 145 145\"/>\n",
       "<path stroke-width=\"1\" stroke=\"black\" d=\"M 120 120 95 120\"/>\n",
       "<path stroke-width=\"1\" stroke=\"black\" d=\"M 120 120 120 145\"/>\n",
       "<path stroke-width=\"1\" stroke=\"black\" d=\"M 120 220 120 195\"/>\n",
       "<path stroke-width=\"1\" stroke=\"black\" d=\"M 120 220 145 220\"/>\n",
       "<path stroke-width=\"1\" stroke=\"black\" d=\"M 120 195 95 195\"/>\n",
       "<path stroke-width=\"1\" stroke=\"black\" d=\"M 120 195 120 220\"/>\n",
       "<path stroke-width=\"1\" stroke=\"black\" d=\"M 120 195 120 170\"/>\n",
       "<path stroke-width=\"1\" stroke=\"black\" d=\"M 120 195 145 195\"/>\n",
       "<path stroke-width=\"1\" stroke=\"black\" d=\"M 120 170 95 170\"/>\n",
       "<path stroke-width=\"1\" stroke=\"black\" d=\"M 120 170 120 195\"/>\n",
       "<path stroke-width=\"1\" stroke=\"black\" d=\"M 145 70 120 70\"/>\n",
       "<path stroke-width=\"1\" stroke=\"black\" d=\"M 145 70 145 95\"/>\n",
       "<path stroke-width=\"1\" stroke=\"black\" d=\"M 145 70 145 45\"/>\n",
       "<path stroke-width=\"1\" stroke=\"black\" d=\"M 145 70 170 70\"/>\n",
       "<path stroke-width=\"1\" stroke=\"black\" d=\"M 145 45 120 45\"/>\n",
       "<path stroke-width=\"1\" stroke=\"black\" d=\"M 145 45 145 70\"/>\n",
       "<path stroke-width=\"1\" stroke=\"black\" d=\"M 145 45 145 20\"/>\n",
       "<path stroke-width=\"1\" stroke=\"black\" d=\"M 145 45 170 45\"/>\n",
       "<path stroke-width=\"1\" stroke=\"black\" d=\"M 145 120 120 120\"/>\n",
       "<path stroke-width=\"1\" stroke=\"black\" d=\"M 145 120 145 145\"/>\n",
       "<path stroke-width=\"1\" stroke=\"black\" d=\"M 145 120 145 95\"/>\n",
       "<path stroke-width=\"1\" stroke=\"black\" d=\"M 145 120 170 120\"/>\n",
       "<path stroke-width=\"1\" stroke=\"black\" d=\"M 145 95 120 95\"/>\n",
       "<path stroke-width=\"1\" stroke=\"black\" d=\"M 145 95 145 120\"/>\n",
       "<path stroke-width=\"1\" stroke=\"black\" d=\"M 145 95 145 70\"/>\n",
       "<path stroke-width=\"1\" stroke=\"black\" d=\"M 145 95 170 95\"/>\n",
       "<path stroke-width=\"1\" stroke=\"black\" d=\"M 145 170 120 170\"/>\n",
       "<path stroke-width=\"1\" stroke=\"black\" d=\"M 145 170 145 195\"/>\n",
       "<path stroke-width=\"1\" stroke=\"black\" d=\"M 145 170 145 145\"/>\n",
       "<path stroke-width=\"1\" stroke=\"black\" d=\"M 145 170 170 170\"/>\n",
       "<path stroke-width=\"1\" stroke=\"black\" d=\"M 145 145 120 145\"/>\n",
       "<path stroke-width=\"1\" stroke=\"black\" d=\"M 145 145 145 170\"/>\n",
       "<path stroke-width=\"1\" stroke=\"black\" d=\"M 145 145 145 120\"/>\n",
       "<path stroke-width=\"1\" stroke=\"black\" d=\"M 145 145 170 145\"/>\n",
       "<path stroke-width=\"1\" stroke=\"black\" d=\"M 120 20 145 20\"/>\n",
       "<path stroke-width=\"1\" stroke=\"black\" d=\"M 145 220 120 220\"/>\n",
       "<path stroke-width=\"1\" stroke=\"black\" d=\"M 145 220 145 195\"/>\n",
       "<path stroke-width=\"1\" stroke=\"black\" d=\"M 145 220 170 220\"/>\n",
       "<path stroke-width=\"1\" stroke=\"black\" d=\"M 145 195 120 195\"/>\n",
       "<path stroke-width=\"1\" stroke=\"black\" d=\"M 145 195 145 220\"/>\n",
       "<path stroke-width=\"1\" stroke=\"black\" d=\"M 145 195 145 170\"/>\n",
       "<path stroke-width=\"1\" stroke=\"black\" d=\"M 145 195 170 195\"/>\n",
       "<path stroke-width=\"1\" stroke=\"black\" d=\"M 170 95 170 70\"/>\n",
       "<path stroke-width=\"1\" stroke=\"black\" d=\"M 170 95 195 95\"/>\n",
       "<path stroke-width=\"1\" stroke=\"black\" d=\"M 170 70 145 70\"/>\n",
       "<path stroke-width=\"1\" stroke=\"black\" d=\"M 170 70 170 95\"/>\n",
       "<path stroke-width=\"1\" stroke=\"black\" d=\"M 170 70 170 45\"/>\n",
       "<path stroke-width=\"1\" stroke=\"black\" d=\"M 170 70 195 70\"/>\n",
       "<path stroke-width=\"1\" stroke=\"black\" d=\"M 170 45 145 45\"/>\n",
       "<path stroke-width=\"1\" stroke=\"black\" d=\"M 170 45 170 70\"/>\n",
       "<path stroke-width=\"1\" stroke=\"black\" d=\"M 170 145 170 120\"/>\n",
       "<path stroke-width=\"1\" stroke=\"black\" d=\"M 170 145 195 145\"/>\n",
       "<path stroke-width=\"1\" stroke=\"black\" d=\"M 170 120 145 120\"/>\n",
       "<path stroke-width=\"1\" stroke=\"black\" d=\"M 170 120 170 145\"/>\n",
       "<path stroke-width=\"1\" stroke=\"black\" d=\"M 170 120 170 95\"/>\n",
       "<path stroke-width=\"1\" stroke=\"black\" d=\"M 170 120 195 120\"/>\n",
       "<path stroke-width=\"1\" stroke=\"black\" d=\"M 170 95 145 95\"/>\n",
       "<path stroke-width=\"1\" stroke=\"black\" d=\"M 170 95 170 120\"/>\n",
       "<path stroke-width=\"1\" stroke=\"black\" d=\"M 170 195 170 170\"/>\n",
       "<path stroke-width=\"1\" stroke=\"black\" d=\"M 170 195 195 195\"/>\n",
       "<path stroke-width=\"1\" stroke=\"black\" d=\"M 170 170 145 170\"/>\n",
       "<path stroke-width=\"1\" stroke=\"black\" d=\"M 170 170 170 195\"/>\n",
       "<path stroke-width=\"1\" stroke=\"black\" d=\"M 170 170 170 145\"/>\n",
       "<path stroke-width=\"1\" stroke=\"black\" d=\"M 170 170 195 170\"/>\n",
       "<path stroke-width=\"1\" stroke=\"black\" d=\"M 170 145 145 145\"/>\n",
       "<path stroke-width=\"1\" stroke=\"black\" d=\"M 170 145 170 170\"/>\n",
       "<path stroke-width=\"1\" stroke=\"black\" d=\"M 145 20 120 20\"/>\n",
       "<path stroke-width=\"1\" stroke=\"black\" d=\"M 145 20 145 45\"/>\n",
       "<path stroke-width=\"1\" stroke=\"black\" d=\"M 145 20 170 20\"/>\n",
       "<path stroke-width=\"1\" stroke=\"black\" d=\"M 170 220 145 220\"/>\n",
       "<path stroke-width=\"1\" stroke=\"black\" d=\"M 170 220 170 195\"/>\n",
       "<path stroke-width=\"1\" stroke=\"black\" d=\"M 170 220 195 220\"/>\n",
       "<path stroke-width=\"1\" stroke=\"black\" d=\"M 170 195 145 195\"/>\n",
       "<path stroke-width=\"1\" stroke=\"black\" d=\"M 170 195 170 220\"/>\n",
       "<path stroke-width=\"1\" stroke=\"black\" d=\"M 195 95 170 95\"/>\n",
       "<path stroke-width=\"1\" stroke=\"black\" d=\"M 195 95 195 120\"/>\n",
       "<path stroke-width=\"1\" stroke=\"black\" d=\"M 195 95 195 70\"/>\n",
       "<path stroke-width=\"1\" stroke=\"black\" d=\"M 195 95 220 95\"/>\n",
       "<path stroke-width=\"1\" stroke=\"black\" d=\"M 195 70 170 70\"/>\n",
       "<path stroke-width=\"1\" stroke=\"black\" d=\"M 195 70 195 95\"/>\n",
       "<path stroke-width=\"1\" stroke=\"black\" d=\"M 195 70 195 45\"/>\n",
       "<path stroke-width=\"1\" stroke=\"black\" d=\"M 195 70 220 70\"/>\n",
       "<path stroke-width=\"1\" stroke=\"black\" d=\"M 195 145 170 145\"/>\n",
       "<path stroke-width=\"1\" stroke=\"black\" d=\"M 195 145 195 170\"/>\n",
       "<path stroke-width=\"1\" stroke=\"black\" d=\"M 195 145 195 120\"/>\n",
       "<path stroke-width=\"1\" stroke=\"black\" d=\"M 195 145 220 145\"/>\n",
       "<path stroke-width=\"1\" stroke=\"black\" d=\"M 195 120 170 120\"/>\n",
       "<path stroke-width=\"1\" stroke=\"black\" d=\"M 195 120 195 145\"/>\n",
       "<path stroke-width=\"1\" stroke=\"black\" d=\"M 195 120 195 95\"/>\n",
       "<path stroke-width=\"1\" stroke=\"black\" d=\"M 195 120 220 120\"/>\n",
       "<path stroke-width=\"1\" stroke=\"black\" d=\"M 195 195 170 195\"/>\n",
       "<path stroke-width=\"1\" stroke=\"black\" d=\"M 195 195 195 220\"/>\n",
       "<path stroke-width=\"1\" stroke=\"black\" d=\"M 195 195 195 170\"/>\n",
       "<path stroke-width=\"1\" stroke=\"black\" d=\"M 195 195 220 195\"/>\n",
       "<path stroke-width=\"1\" stroke=\"black\" d=\"M 195 170 170 170\"/>\n",
       "<path stroke-width=\"1\" stroke=\"black\" d=\"M 195 170 195 195\"/>\n",
       "<path stroke-width=\"1\" stroke=\"black\" d=\"M 195 170 195 145\"/>\n",
       "<path stroke-width=\"1\" stroke=\"black\" d=\"M 195 170 220 170\"/>\n",
       "<path stroke-width=\"1\" stroke=\"black\" d=\"M 170 45 170 20\"/>\n",
       "<path stroke-width=\"1\" stroke=\"black\" d=\"M 170 45 195 45\"/>\n",
       "<path stroke-width=\"1\" stroke=\"black\" d=\"M 170 20 145 20\"/>\n",
       "<path stroke-width=\"1\" stroke=\"black\" d=\"M 170 20 170 45\"/>\n",
       "<path stroke-width=\"1\" stroke=\"black\" d=\"M 170 20 195 20\"/>\n",
       "<path stroke-width=\"1\" stroke=\"black\" d=\"M 195 220 170 220\"/>\n",
       "<path stroke-width=\"1\" stroke=\"black\" d=\"M 195 220 195 195\"/>\n",
       "<path stroke-width=\"1\" stroke=\"black\" d=\"M 195 220 220 220\"/>\n",
       "<path stroke-width=\"1\" stroke=\"black\" d=\"M 45 20 20 20\"/>\n",
       "<path stroke-width=\"1\" stroke=\"black\" d=\"M 45 20 45 45\"/>\n",
       "<path stroke-width=\"1\" stroke=\"black\" d=\"M 45 20 70 20\"/>\n",
       "<path stroke-width=\"1\" stroke=\"black\" d=\"M 70 220 45 220\"/>\n",
       "<path stroke-width=\"1\" stroke=\"black\" d=\"M 70 220 70 195\"/>\n",
       "<path stroke-width=\"1\" stroke=\"black\" d=\"M 70 220 95 220\"/>\n",
       "<path stroke-width=\"1\" stroke=\"black\" d=\"M 70 195 45 195\"/>\n",
       "<path stroke-width=\"1\" stroke=\"black\" d=\"M 70 195 70 220\"/>\n",
       "<path stroke-width=\"1\" stroke=\"black\" d=\"M 45 70 20 70\"/>\n",
       "<path stroke-width=\"1\" stroke=\"black\" d=\"M 45 70 45 95\"/>\n",
       "<path stroke-width=\"1\" stroke=\"black\" d=\"M 45 70 45 45\"/>\n",
       "<path stroke-width=\"1\" stroke=\"black\" d=\"M 45 70 70 70\"/>\n",
       "<path stroke-width=\"1\" stroke=\"black\" d=\"M 45 45 20 45\"/>\n",
       "<path stroke-width=\"1\" stroke=\"black\" d=\"M 45 45 45 70\"/>\n",
       "<path stroke-width=\"1\" stroke=\"black\" d=\"M 45 45 45 20\"/>\n",
       "<path stroke-width=\"1\" stroke=\"black\" d=\"M 45 45 70 45\"/>\n",
       "<path stroke-width=\"1\" stroke=\"black\" d=\"M 45 120 20 120\"/>\n",
       "<path stroke-width=\"1\" stroke=\"black\" d=\"M 45 120 45 145\"/>\n",
       "<path stroke-width=\"1\" stroke=\"black\" d=\"M 45 120 45 95\"/>\n",
       "<path stroke-width=\"1\" stroke=\"black\" d=\"M 45 120 70 120\"/>\n",
       "<path stroke-width=\"1\" stroke=\"black\" d=\"M 45 95 20 95\"/>\n",
       "<path stroke-width=\"1\" stroke=\"black\" d=\"M 45 95 45 120\"/>\n",
       "<path stroke-width=\"1\" stroke=\"black\" d=\"M 45 95 45 70\"/>\n",
       "<path stroke-width=\"1\" stroke=\"black\" d=\"M 45 95 70 95\"/>\n",
       "<path stroke-width=\"1\" stroke=\"black\" d=\"M 45 170 20 170\"/>\n",
       "<path stroke-width=\"1\" stroke=\"black\" d=\"M 45 170 45 195\"/>\n",
       "<path stroke-width=\"1\" stroke=\"black\" d=\"M 45 170 45 145\"/>\n",
       "<path stroke-width=\"1\" stroke=\"black\" d=\"M 45 170 70 170\"/>\n",
       "<path stroke-width=\"1\" stroke=\"black\" d=\"M 45 145 20 145\"/>\n",
       "<path stroke-width=\"1\" stroke=\"black\" d=\"M 45 145 45 170\"/>\n",
       "<path stroke-width=\"1\" stroke=\"black\" d=\"M 45 145 45 120\"/>\n",
       "<path stroke-width=\"1\" stroke=\"black\" d=\"M 45 145 70 145\"/>\n",
       "<circle cx=\"20\" cy=\"220\" r=\"7.0\" style=\"fill:gray;stroke:black;stroke-width:1.0\"/>\n",
       "<circle cx=\"20\" cy=\"195\" r=\"7.0\" style=\"fill:gray;stroke:black;stroke-width:1.0\"/>\n",
       "<circle cx=\"20\" cy=\"170\" r=\"7.0\" style=\"fill:gray;stroke:black;stroke-width:1.0\"/>\n",
       "<circle cx=\"20\" cy=\"145\" r=\"7.0\" style=\"fill:gray;stroke:black;stroke-width:1.0\"/>\n",
       "<circle cx=\"20\" cy=\"120\" r=\"7.0\" style=\"fill:gray;stroke:black;stroke-width:1.0\"/>\n",
       "<circle cx=\"20\" cy=\"95\" r=\"7.0\" style=\"fill:gray;stroke:black;stroke-width:1.0\"/>\n",
       "<circle cx=\"20\" cy=\"70\" r=\"7.0\" style=\"fill:gray;stroke:black;stroke-width:1.0\"/>\n",
       "<circle cx=\"20\" cy=\"45\" r=\"7.0\" style=\"fill:gray;stroke:black;stroke-width:1.0\"/>\n",
       "<circle cx=\"20\" cy=\"20\" r=\"7.0\" style=\"fill:gray;stroke:black;stroke-width:1.0\"/>\n",
       "<circle cx=\"45\" cy=\"220\" r=\"7.0\" style=\"fill:gray;stroke:black;stroke-width:1.0\"/>\n",
       "<circle cx=\"45\" cy=\"195\" r=\"7.0\" style=\"fill:gray;stroke:black;stroke-width:1.0\"/>\n",
       "<circle cx=\"45\" cy=\"170\" r=\"7.0\" style=\"fill:gray;stroke:black;stroke-width:1.0\"/>\n",
       "<circle cx=\"45\" cy=\"145\" r=\"7.0\" style=\"fill:gray;stroke:black;stroke-width:1.0\"/>\n",
       "<circle cx=\"45\" cy=\"120\" r=\"7.0\" style=\"fill:gray;stroke:black;stroke-width:1.0\"/>\n",
       "<circle cx=\"45\" cy=\"95\" r=\"7.0\" style=\"fill:gray;stroke:black;stroke-width:1.0\"/>\n",
       "<circle cx=\"45\" cy=\"70\" r=\"7.0\" style=\"fill:gray;stroke:black;stroke-width:1.0\"/>\n",
       "<circle cx=\"45\" cy=\"45\" r=\"7.0\" style=\"fill:gray;stroke:black;stroke-width:1.0\"/>\n",
       "<circle cx=\"45\" cy=\"20\" r=\"7.0\" style=\"fill:gray;stroke:black;stroke-width:1.0\"/>\n",
       "<circle cx=\"70\" cy=\"220\" r=\"7.0\" style=\"fill:gray;stroke:black;stroke-width:1.0\"/>\n",
       "<circle cx=\"70\" cy=\"195\" r=\"7.0\" style=\"fill:gray;stroke:black;stroke-width:1.0\"/>\n",
       "<circle cx=\"70\" cy=\"170\" r=\"7.0\" style=\"fill:gray;stroke:black;stroke-width:1.0\"/>\n",
       "<circle cx=\"70\" cy=\"145\" r=\"7.0\" style=\"fill:gray;stroke:black;stroke-width:1.0\"/>\n",
       "<circle cx=\"70\" cy=\"120\" r=\"7.0\" style=\"fill:gray;stroke:black;stroke-width:1.0\"/>\n",
       "<circle cx=\"70\" cy=\"95\" r=\"7.0\" style=\"fill:gray;stroke:black;stroke-width:1.0\"/>\n",
       "<circle cx=\"70\" cy=\"70\" r=\"7.0\" style=\"fill:gray;stroke:black;stroke-width:1.0\"/>\n",
       "<circle cx=\"70\" cy=\"45\" r=\"7.0\" style=\"fill:gray;stroke:black;stroke-width:1.0\"/>\n",
       "<circle cx=\"70\" cy=\"20\" r=\"7.0\" style=\"fill:gray;stroke:black;stroke-width:1.0\"/>\n",
       "<circle cx=\"95\" cy=\"220\" r=\"7.0\" style=\"fill:gray;stroke:black;stroke-width:1.0\"/>\n",
       "<circle cx=\"95\" cy=\"195\" r=\"7.0\" style=\"fill:gray;stroke:black;stroke-width:1.0\"/>\n",
       "<circle cx=\"95\" cy=\"170\" r=\"7.0\" style=\"fill:gray;stroke:black;stroke-width:1.0\"/>\n",
       "<circle cx=\"95\" cy=\"145\" r=\"7.0\" style=\"fill:gray;stroke:black;stroke-width:1.0\"/>\n",
       "<circle cx=\"95\" cy=\"120\" r=\"7.0\" style=\"fill:gray;stroke:black;stroke-width:1.0\"/>\n",
       "<circle cx=\"95\" cy=\"95\" r=\"7.0\" style=\"fill:gray;stroke:black;stroke-width:1.0\"/>\n",
       "<circle cx=\"95\" cy=\"70\" r=\"7.0\" style=\"fill:gray;stroke:black;stroke-width:1.0\"/>\n",
       "<circle cx=\"95\" cy=\"45\" r=\"7.0\" style=\"fill:gray;stroke:black;stroke-width:1.0\"/>\n",
       "<circle cx=\"95\" cy=\"20\" r=\"7.0\" style=\"fill:gray;stroke:black;stroke-width:1.0\"/>\n",
       "<circle cx=\"120\" cy=\"220\" r=\"7.0\" style=\"fill:gray;stroke:black;stroke-width:1.0\"/>\n",
       "<circle cx=\"120\" cy=\"195\" r=\"7.0\" style=\"fill:gray;stroke:black;stroke-width:1.0\"/>\n",
       "<circle cx=\"120\" cy=\"170\" r=\"7.0\" style=\"fill:gray;stroke:black;stroke-width:1.0\"/>\n",
       "<circle cx=\"120\" cy=\"145\" r=\"7.0\" style=\"fill:gray;stroke:black;stroke-width:1.0\"/>\n",
       "<circle cx=\"120\" cy=\"120\" r=\"7.0\" style=\"fill:gray;stroke:black;stroke-width:1.0\"/>\n",
       "<circle cx=\"120\" cy=\"95\" r=\"7.0\" style=\"fill:gray;stroke:black;stroke-width:1.0\"/>\n",
       "<circle cx=\"120\" cy=\"70\" r=\"7.0\" style=\"fill:gray;stroke:black;stroke-width:1.0\"/>\n",
       "<circle cx=\"120\" cy=\"45\" r=\"7.0\" style=\"fill:gray;stroke:black;stroke-width:1.0\"/>\n",
       "<circle cx=\"120\" cy=\"20\" r=\"7.0\" style=\"fill:gray;stroke:black;stroke-width:1.0\"/>\n",
       "<circle cx=\"145\" cy=\"220\" r=\"7.0\" style=\"fill:gray;stroke:black;stroke-width:1.0\"/>\n",
       "<circle cx=\"145\" cy=\"195\" r=\"7.0\" style=\"fill:gray;stroke:black;stroke-width:1.0\"/>\n",
       "<circle cx=\"145\" cy=\"170\" r=\"7.0\" style=\"fill:gray;stroke:black;stroke-width:1.0\"/>\n",
       "<circle cx=\"145\" cy=\"145\" r=\"7.0\" style=\"fill:gray;stroke:black;stroke-width:1.0\"/>\n",
       "<circle cx=\"145\" cy=\"120\" r=\"7.0\" style=\"fill:gray;stroke:black;stroke-width:1.0\"/>\n",
       "<circle cx=\"145\" cy=\"95\" r=\"7.0\" style=\"fill:gray;stroke:black;stroke-width:1.0\"/>\n",
       "<circle cx=\"145\" cy=\"70\" r=\"7.0\" style=\"fill:gray;stroke:black;stroke-width:1.0\"/>\n",
       "<circle cx=\"145\" cy=\"45\" r=\"7.0\" style=\"fill:gray;stroke:black;stroke-width:1.0\"/>\n",
       "<circle cx=\"145\" cy=\"20\" r=\"7.0\" style=\"fill:gray;stroke:black;stroke-width:1.0\"/>\n",
       "<circle cx=\"170\" cy=\"220\" r=\"7.0\" style=\"fill:gray;stroke:black;stroke-width:1.0\"/>\n",
       "<circle cx=\"170\" cy=\"195\" r=\"7.0\" style=\"fill:gray;stroke:black;stroke-width:1.0\"/>\n",
       "<circle cx=\"170\" cy=\"170\" r=\"7.0\" style=\"fill:gray;stroke:black;stroke-width:1.0\"/>\n",
       "<circle cx=\"170\" cy=\"145\" r=\"7.0\" style=\"fill:gray;stroke:black;stroke-width:1.0\"/>\n",
       "<circle cx=\"170\" cy=\"120\" r=\"7.0\" style=\"fill:gray;stroke:black;stroke-width:1.0\"/>\n",
       "<circle cx=\"170\" cy=\"95\" r=\"7.0\" style=\"fill:gray;stroke:black;stroke-width:1.0\"/>\n",
       "<circle cx=\"170\" cy=\"70\" r=\"7.0\" style=\"fill:gray;stroke:black;stroke-width:1.0\"/>\n",
       "<circle cx=\"170\" cy=\"45\" r=\"7.0\" style=\"fill:gray;stroke:black;stroke-width:1.0\"/>\n",
       "<circle cx=\"170\" cy=\"20\" r=\"7.0\" style=\"fill:gray;stroke:black;stroke-width:1.0\"/>\n",
       "<circle cx=\"195\" cy=\"220\" r=\"7.0\" style=\"fill:gray;stroke:black;stroke-width:1.0\"/>\n",
       "<circle cx=\"195\" cy=\"195\" r=\"7.0\" style=\"fill:gray;stroke:black;stroke-width:1.0\"/>\n",
       "<circle cx=\"195\" cy=\"170\" r=\"7.0\" style=\"fill:gray;stroke:black;stroke-width:1.0\"/>\n",
       "<circle cx=\"195\" cy=\"145\" r=\"7.0\" style=\"fill:gray;stroke:black;stroke-width:1.0\"/>\n",
       "<circle cx=\"195\" cy=\"120\" r=\"7.0\" style=\"fill:gray;stroke:black;stroke-width:1.0\"/>\n",
       "<circle cx=\"195\" cy=\"95\" r=\"7.0\" style=\"fill:gray;stroke:black;stroke-width:1.0\"/>\n",
       "<circle cx=\"195\" cy=\"70\" r=\"7.0\" style=\"fill:gray;stroke:black;stroke-width:1.0\"/>\n",
       "<circle cx=\"195\" cy=\"45\" r=\"7.0\" style=\"fill:gray;stroke:black;stroke-width:1.0\"/>\n",
       "<circle cx=\"195\" cy=\"20\" r=\"7.0\" style=\"fill:gray;stroke:black;stroke-width:1.0\"/>\n",
       "<circle cx=\"220\" cy=\"220\" r=\"7.0\" style=\"fill:gray;stroke:black;stroke-width:1.0\"/>\n",
       "<circle cx=\"220\" cy=\"195\" r=\"7.0\" style=\"fill:gray;stroke:black;stroke-width:1.0\"/>\n",
       "<circle cx=\"220\" cy=\"170\" r=\"7.0\" style=\"fill:gray;stroke:black;stroke-width:1.0\"/>\n",
       "<circle cx=\"220\" cy=\"145\" r=\"7.0\" style=\"fill:gray;stroke:black;stroke-width:1.0\"/>\n",
       "<circle cx=\"220\" cy=\"120\" r=\"7.0\" style=\"fill:gray;stroke:black;stroke-width:1.0\"/>\n",
       "<circle cx=\"220\" cy=\"95\" r=\"7.0\" style=\"fill:gray;stroke:black;stroke-width:1.0\"/>\n",
       "<circle cx=\"220\" cy=\"70\" r=\"7.0\" style=\"fill:gray;stroke:black;stroke-width:1.0\"/>\n",
       "<circle cx=\"220\" cy=\"45\" r=\"7.0\" style=\"fill:gray;stroke:black;stroke-width:1.0\"/>\n",
       "<circle cx=\"220\" cy=\"20\" r=\"7.0\" style=\"fill:gray;stroke:black;stroke-width:1.0\"/>\n",
       "</svg>"
      ],
      "text/plain": [
       "<IPython.core.display.SVG object>"
      ]
     },
     "execution_count": 6,
     "metadata": {},
     "output_type": "execute_result"
    }
   ],
   "source": [
    "image = visualize_graph(adjacency, position, width=200, height=200)\n",
    "SVG(image)"
   ]
  },
  {
   "cell_type": "markdown",
   "metadata": {},
   "source": [
    "## To do\n",
    "\n",
    "* Cluster the graph by Louvain and return the corresponding modularity.\n",
    "* Try to shuffle the nodes and observe the results.\n",
    "* Find a better clustering than Louvain in terms of modularity. Comment your results."
   ]
  },
  {
   "cell_type": "code",
   "execution_count": 7,
   "metadata": {},
   "outputs": [],
   "source": [
    "louvain = Louvain()"
   ]
  },
  {
   "cell_type": "code",
   "execution_count": 8,
   "metadata": {},
   "outputs": [
    {
     "ename": "TypeError",
     "evalue": "No matching signature found",
     "output_type": "error",
     "traceback": [
      "\u001b[31m---------------------------------------------------------------------------\u001b[39m",
      "\u001b[31mTypeError\u001b[39m                                 Traceback (most recent call last)",
      "\u001b[36mCell\u001b[39m\u001b[36m \u001b[39m\u001b[32mIn[8]\u001b[39m\u001b[32m, line 1\u001b[39m\n\u001b[32m----> \u001b[39m\u001b[32m1\u001b[39m labels = \u001b[43mlouvain\u001b[49m\u001b[43m.\u001b[49m\u001b[43mfit_predict\u001b[49m\u001b[43m(\u001b[49m\u001b[43madjacency\u001b[49m\u001b[43m)\u001b[49m\n",
      "\u001b[36mFile \u001b[39m\u001b[32m~\\AppData\\Roaming\\Python\\Python312\\site-packages\\sknetwork\\clustering\\base.py:64\u001b[39m, in \u001b[36mBaseClustering.fit_predict\u001b[39m\u001b[34m(self, *args, **kwargs)\u001b[39m\n\u001b[32m     56\u001b[39m \u001b[38;5;28;01mdef\u001b[39;00m\u001b[38;5;250m \u001b[39m\u001b[34mfit_predict\u001b[39m(\u001b[38;5;28mself\u001b[39m, *args, **kwargs) -> np.ndarray:\n\u001b[32m     57\u001b[39m \u001b[38;5;250m    \u001b[39m\u001b[33;03m\"\"\"Fit algorithm to the data and return the labels. Same parameters as the ``fit`` method.\u001b[39;00m\n\u001b[32m     58\u001b[39m \n\u001b[32m     59\u001b[39m \u001b[33;03m    Returns\u001b[39;00m\n\u001b[32m   (...)\u001b[39m\u001b[32m     62\u001b[39m \u001b[33;03m        Labels.\u001b[39;00m\n\u001b[32m     63\u001b[39m \u001b[33;03m    \"\"\"\u001b[39;00m\n\u001b[32m---> \u001b[39m\u001b[32m64\u001b[39m     \u001b[38;5;28;43mself\u001b[39;49m\u001b[43m.\u001b[49m\u001b[43mfit\u001b[49m\u001b[43m(\u001b[49m\u001b[43m*\u001b[49m\u001b[43margs\u001b[49m\u001b[43m,\u001b[49m\u001b[43m \u001b[49m\u001b[43m*\u001b[49m\u001b[43m*\u001b[49m\u001b[43mkwargs\u001b[49m\u001b[43m)\u001b[49m\n\u001b[32m     65\u001b[39m     \u001b[38;5;28;01mreturn\u001b[39;00m \u001b[38;5;28mself\u001b[39m.predict()\n",
      "\u001b[36mFile \u001b[39m\u001b[32m~\\AppData\\Roaming\\Python\\Python312\\site-packages\\sknetwork\\clustering\\louvain.py:276\u001b[39m, in \u001b[36mLouvain.fit\u001b[39m\u001b[34m(self, input_matrix, force_bipartite)\u001b[39m\n\u001b[32m    274\u001b[39m count += \u001b[32m1\u001b[39m\n\u001b[32m    275\u001b[39m labels = np.arange(n)\n\u001b[32m--> \u001b[39m\u001b[32m276\u001b[39m labels, increase = \u001b[38;5;28;43mself\u001b[39;49m\u001b[43m.\u001b[49m\u001b[43m_optimize\u001b[49m\u001b[43m(\u001b[49m\u001b[43mlabels\u001b[49m\u001b[43m,\u001b[49m\u001b[43m \u001b[49m\u001b[43madjacency\u001b[49m\u001b[43m,\u001b[49m\u001b[43m \u001b[49m\u001b[43mout_weights\u001b[49m\u001b[43m,\u001b[49m\u001b[43m \u001b[49m\u001b[43min_weights\u001b[49m\u001b[43m)\u001b[49m\n\u001b[32m    277\u001b[39m _, labels = np.unique(labels, return_inverse=\u001b[38;5;28;01mTrue\u001b[39;00m)\n\u001b[32m    278\u001b[39m adjacency, out_weights, in_weights = \u001b[38;5;28mself\u001b[39m._aggregate(labels, adjacency, out_weights, in_weights)\n",
      "\u001b[36mFile \u001b[39m\u001b[32m~\\AppData\\Roaming\\Python\\Python312\\site-packages\\sknetwork\\clustering\\louvain.py:144\u001b[39m, in \u001b[36mLouvain._optimize\u001b[39m\u001b[34m(self, labels, adjacency, out_weights, in_weights)\u001b[39m\n\u001b[32m    142\u001b[39m cluster_weights = np.zeros_like(out_cluster_weights).astype(np.float32)\n\u001b[32m    143\u001b[39m self_loops = adjacency.diagonal().astype(np.float32)\n\u001b[32m--> \u001b[39m\u001b[32m144\u001b[39m \u001b[38;5;28;01mreturn\u001b[39;00m \u001b[43moptimize_core\u001b[49m\u001b[43m(\u001b[49m\u001b[43mlabels\u001b[49m\u001b[43m,\u001b[49m\u001b[43m \u001b[49m\u001b[43mindices\u001b[49m\u001b[43m,\u001b[49m\u001b[43m \u001b[49m\u001b[43mindptr\u001b[49m\u001b[43m,\u001b[49m\u001b[43m \u001b[49m\u001b[43mdata\u001b[49m\u001b[43m,\u001b[49m\u001b[43m \u001b[49m\u001b[43mout_weights\u001b[49m\u001b[43m,\u001b[49m\u001b[43m \u001b[49m\u001b[43min_weights\u001b[49m\u001b[43m,\u001b[49m\u001b[43m \u001b[49m\u001b[43mout_cluster_weights\u001b[49m\u001b[43m,\u001b[49m\n\u001b[32m    145\u001b[39m \u001b[43m                     \u001b[49m\u001b[43min_cluster_weights\u001b[49m\u001b[43m,\u001b[49m\u001b[43m \u001b[49m\u001b[43mcluster_weights\u001b[49m\u001b[43m,\u001b[49m\u001b[43m \u001b[49m\u001b[43mself_loops\u001b[49m\u001b[43m,\u001b[49m\u001b[43m \u001b[49m\u001b[38;5;28;43mself\u001b[39;49m\u001b[43m.\u001b[49m\u001b[43mresolution\u001b[49m\u001b[43m,\u001b[49m\u001b[43m \u001b[49m\u001b[38;5;28;43mself\u001b[39;49m\u001b[43m.\u001b[49m\u001b[43mtol_optimization\u001b[49m\u001b[43m)\u001b[49m\n",
      "\u001b[36mFile \u001b[39m\u001b[32m~\\AppData\\Roaming\\Python\\Python312\\site-packages\\sknetwork\\clustering\\louvain_core.pyx:10\u001b[39m, in \u001b[36msknetwork.clustering.louvain_core.__pyx_fused_cpdef\u001b[39m\u001b[34m()\u001b[39m\n",
      "\u001b[31mTypeError\u001b[39m: No matching signature found"
     ]
    }
   ],
   "source": [
    "labels = louvain.fit_predict(adjacency)"
   ]
  },
  {
   "cell_type": "code",
   "execution_count": 23,
   "metadata": {},
   "outputs": [
    {
     "ename": "NameError",
     "evalue": "name 'labels' is not defined",
     "output_type": "error",
     "traceback": [
      "\u001b[1;31m---------------------------------------------------------------------------\u001b[0m",
      "\u001b[1;31mNameError\u001b[0m                                 Traceback (most recent call last)",
      "Cell \u001b[1;32mIn[23], line 1\u001b[0m\n\u001b[1;32m----> 1\u001b[0m image \u001b[38;5;241m=\u001b[39m visualize_graph(adjacency, position, labels\u001b[38;5;241m=\u001b[39m\u001b[43mlabels\u001b[49m, width\u001b[38;5;241m=\u001b[39m\u001b[38;5;241m200\u001b[39m, height\u001b[38;5;241m=\u001b[39m\u001b[38;5;241m200\u001b[39m)\n\u001b[0;32m      2\u001b[0m SVG(image)\n",
      "\u001b[1;31mNameError\u001b[0m: name 'labels' is not defined"
     ]
    }
   ],
   "source": [
    "image = visualize_graph(adjacency, position, labels=labels, width=200, height=200)\n",
    "SVG(image)"
   ]
  },
  {
   "cell_type": "code",
   "execution_count": 24,
   "metadata": {},
   "outputs": [
    {
     "ename": "NameError",
     "evalue": "name 'labels' is not defined",
     "output_type": "error",
     "traceback": [
      "\u001b[1;31m---------------------------------------------------------------------------\u001b[0m",
      "\u001b[1;31mNameError\u001b[0m                                 Traceback (most recent call last)",
      "Cell \u001b[1;32mIn[24], line 1\u001b[0m\n\u001b[1;32m----> 1\u001b[0m get_modularity(adjacency, \u001b[43mlabels\u001b[49m)\n",
      "\u001b[1;31mNameError\u001b[0m: name 'labels' is not defined"
     ]
    }
   ],
   "source": [
    "get_modularity(adjacency, labels)"
   ]
  },
  {
   "cell_type": "markdown",
   "metadata": {},
   "source": [
    "## Karate Club\n"
   ]
  },
  {
   "cell_type": "markdown",
   "metadata": {},
   "source": [
    "The [karate club graph](https://en.wikipedia.org/wiki/Zachary%27s_karate_club) provides ground-truth clusters."
   ]
  },
  {
   "cell_type": "code",
   "execution_count": null,
   "metadata": {},
   "outputs": [],
   "source": [
    "dataset = karate_club(metadata=True)"
   ]
  },
  {
   "cell_type": "code",
   "execution_count": null,
   "metadata": {},
   "outputs": [],
   "source": [
    "adjacency = dataset.adjacency\n",
    "position = dataset.position\n",
    "labels_true = dataset.labels"
   ]
  },
  {
   "cell_type": "code",
   "execution_count": null,
   "metadata": {},
   "outputs": [],
   "source": [
    "image = visualize_graph(adjacency, position, labels=labels_true)\n",
    "SVG(image)"
   ]
  },
  {
   "cell_type": "markdown",
   "metadata": {},
   "source": [
    "## To do\n",
    "\n",
    "* Cluster the graph by Louvain and display the labels. Give the modularity. \n",
    "* Compare with the modularity obtained with the ground-truth labels and comment the results.\n",
    "* Display the aggregate graph after clustering by Louvain (check this [tutorial](https://scikit-network.readthedocs.io/en/latest/tutorials/clustering/louvain.html)).\n",
    "* Adapt the resolution to get 2 clusters. Compare with the ground-truth and comment the results."
   ]
  },
  {
   "cell_type": "code",
   "execution_count": null,
   "metadata": {},
   "outputs": [],
   "source": [
    "louvain = Louvain()"
   ]
  },
  {
   "cell_type": "code",
   "execution_count": null,
   "metadata": {},
   "outputs": [],
   "source": [
    "labels = louvain.fit_predict(adjacency)"
   ]
  },
  {
   "cell_type": "code",
   "execution_count": null,
   "metadata": {},
   "outputs": [],
   "source": [
    "image = visualize_graph(adjacency, position, labels=labels)\n",
    "SVG(image)"
   ]
  },
  {
   "cell_type": "markdown",
   "metadata": {},
   "source": [
    "## Openflights\n"
   ]
  },
  {
   "cell_type": "code",
   "execution_count": null,
   "metadata": {},
   "outputs": [],
   "source": [
    "dataset = openflights"
   ]
  },
  {
   "cell_type": "code",
   "execution_count": null,
   "metadata": {},
   "outputs": [],
   "source": [
    "adjacency = dataset.adjacency\n",
    "position = dataset.position\n",
    "names = dataset.names"
   ]
  },
  {
   "cell_type": "code",
   "execution_count": null,
   "metadata": {},
   "outputs": [],
   "source": [
    "image = visualize_graph(adjacency, position, width=800, height=400, node_size=3, display_edges=False)\n",
    "SVG(image)"
   ]
  },
  {
   "cell_type": "markdown",
   "metadata": {},
   "source": [
    "## To do\n",
    "\n",
    "* Display the same world map with the clusters found by Louvain (resolution 1).\n",
    "* How many clusters are there?\n",
    "* What is the Simpson index of this clustering? How to interpret this result?\n",
    "* List the top airport of each cluster in number of flights.\n",
    "* Display the aggregate graph. Name each cluster by its top airport and display the total traffic of each cluster by the node size.\n",
    "* Display the same graph restricted to clusters with at least 100 nodes.\n",
    "* What is the cluster with the highest traffic?"
   ]
  },
  {
   "cell_type": "markdown",
   "metadata": {},
   "source": [
    "## 2. Directed graphs"
   ]
  },
  {
   "cell_type": "markdown",
   "metadata": {},
   "source": [
    "## Wikipedia Vitals"
   ]
  },
  {
   "cell_type": "code",
   "execution_count": null,
   "metadata": {},
   "outputs": [],
   "source": [
    "graph = wikivitals"
   ]
  },
  {
   "cell_type": "code",
   "execution_count": null,
   "metadata": {},
   "outputs": [],
   "source": [
    "adjacency = graph.adjacency\n",
    "names = graph.names"
   ]
  },
  {
   "cell_type": "markdown",
   "metadata": {},
   "source": [
    "## To do\n",
    "\n",
    "* Cluster the graph by Louvain (resolution 1).\n",
    "* List the top-5 pages of each cluster in terms of Personalized PageRank.\n",
    "* Display the aggregate graph with the cluster volumes and the name of the top page of each cluster.\n",
    "* Display the same graph restricted to clusters with at least 100 nodes.\n",
    "* Among these clusters, which is the strongest? Interpret the result.\n",
    "* Repeat the same experiments at resolution 2."
   ]
  },
  {
   "cell_type": "markdown",
   "metadata": {},
   "source": [
    "## 3. Bipartite graphs"
   ]
  },
  {
   "cell_type": "markdown",
   "metadata": {},
   "source": [
    "## Cinema"
   ]
  },
  {
   "cell_type": "code",
   "execution_count": null,
   "metadata": {},
   "outputs": [],
   "source": [
    "dataset = cinema"
   ]
  },
  {
   "cell_type": "code",
   "execution_count": null,
   "metadata": {},
   "outputs": [],
   "source": [
    "biadjacency = dataset.biadjacency\n",
    "movies = dataset.names_row\n",
    "actors = dataset.names_col"
   ]
  },
  {
   "cell_type": "markdown",
   "metadata": {},
   "source": [
    "## To do"
   ]
  },
  {
   "cell_type": "markdown",
   "metadata": {},
   "source": [
    "* Cluster the graph by Louvain (resolution 1). \n",
    "* List the 10 largest clusters and display the names of the top-3 actors and top-3 movies of these cluster in terms of Personalized PageRank."
   ]
  },
  {
   "cell_type": "code",
   "execution_count": null,
   "metadata": {},
   "outputs": [],
   "source": []
  }
 ],
 "metadata": {
  "anaconda-cloud": {},
  "hide_input": false,
  "kernelspec": {
   "display_name": "Python 3",
   "language": "python",
   "name": "python3"
  },
  "language_info": {
   "codemirror_mode": {
    "name": "ipython",
    "version": 3
   },
   "file_extension": ".py",
   "mimetype": "text/x-python",
   "name": "python",
   "nbconvert_exporter": "python",
   "pygments_lexer": "ipython3",
   "version": "3.12.6"
  }
 },
 "nbformat": 4,
 "nbformat_minor": 1
}
