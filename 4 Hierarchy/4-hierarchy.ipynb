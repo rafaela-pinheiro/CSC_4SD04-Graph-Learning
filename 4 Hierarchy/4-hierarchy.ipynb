{
 "cells": [
  {
   "cell_type": "markdown",
   "metadata": {},
   "source": [
    "# Graph Learning\n",
    "## Lab 4: Hierarchical Clustering\n",
    "\n",
    "In this lab, you will learn to analyse the hierarchical structure of a graph. "
   ]
  },
  {
   "cell_type": "markdown",
   "metadata": {},
   "source": [
    "## Import"
   ]
  },
  {
   "cell_type": "code",
   "execution_count": 1,
   "metadata": {},
   "outputs": [],
   "source": [
    "from IPython.display import SVG"
   ]
  },
  {
   "cell_type": "code",
   "execution_count": 2,
   "metadata": {},
   "outputs": [],
   "source": [
    "import numpy as np\n",
    "from scipy import sparse"
   ]
  },
  {
   "cell_type": "code",
   "execution_count": 3,
   "metadata": {},
   "outputs": [],
   "source": [
    "from sknetwork.data import load_netset, karate_club\n",
    "from sknetwork.hierarchy import LouvainIteration, Paris, cut_straight\n",
    "from sknetwork.ranking import PageRank\n",
    "from sknetwork.visualization import visualize_graph, visualize_dendrogram"
   ]
  },
  {
   "cell_type": "markdown",
   "metadata": {},
   "source": [
    "## Data"
   ]
  },
  {
   "cell_type": "markdown",
   "metadata": {},
   "source": [
    "We will work on the following graphs (see the [NetSet](https://netset.telecom-paristech.fr/) collection for details):\n",
    "* Openflights (graph)\n",
    "* WikiVitals (directed graph)"
   ]
  },
  {
   "cell_type": "code",
   "execution_count": 4,
   "metadata": {},
   "outputs": [
    {
     "name": "stdout",
     "output_type": "stream",
     "text": [
      "Parsing files...\n",
      "Done.\n",
      "Parsing files...\n",
      "Done.\n"
     ]
    }
   ],
   "source": [
    "openflights = load_netset('openflights')\n",
    "wikivitals = load_netset('wikivitals')"
   ]
  },
  {
   "cell_type": "markdown",
   "metadata": {},
   "source": [
    "## 1. Graphs"
   ]
  },
  {
   "cell_type": "markdown",
   "metadata": {},
   "source": [
    "## Karate Club\n"
   ]
  },
  {
   "cell_type": "markdown",
   "metadata": {},
   "source": [
    "We first consider the [karate club graph](https://en.wikipedia.org/wiki/Zachary%27s_karate_club), a small graph with ground-truth clusters."
   ]
  },
  {
   "cell_type": "code",
   "execution_count": 5,
   "metadata": {},
   "outputs": [],
   "source": [
    "dataset = karate_club(True)"
   ]
  },
  {
   "cell_type": "code",
   "execution_count": 6,
   "metadata": {},
   "outputs": [],
   "source": [
    "adjacency = dataset.adjacency\n",
    "position = dataset.position\n",
    "labels_true = dataset.labels"
   ]
  },
  {
   "cell_type": "code",
   "execution_count": 7,
   "metadata": {},
   "outputs": [
    {
     "data": {
      "image/svg+xml": [
       "<svg xmlns=\"http://www.w3.org/2000/svg\" width=\"440\" height=\"340\">\n",
       "<path stroke-width=\"1\" stroke=\"black\" d=\"M 264 200 353 168\"/>\n",
       "<path stroke-width=\"1\" stroke=\"black\" d=\"M 20 116 153 125\"/>\n",
       "<path stroke-width=\"1\" stroke=\"black\" d=\"M 28 91 131 68\"/>\n",
       "<path stroke-width=\"1\" stroke=\"black\" d=\"M 28 91 20 116\"/>\n",
       "<path stroke-width=\"1\" stroke=\"black\" d=\"M 28 91 153 125\"/>\n",
       "<path stroke-width=\"1\" stroke=\"black\" d=\"M 162 20 171 45\"/>\n",
       "<path stroke-width=\"1\" stroke=\"black\" d=\"M 162 20 246 82\"/>\n",
       "<path stroke-width=\"1\" stroke=\"black\" d=\"M 122 103 251 143\"/>\n",
       "<path stroke-width=\"1\" stroke=\"black\" d=\"M 122 103 131 68\"/>\n",
       "<path stroke-width=\"1\" stroke=\"black\" d=\"M 122 103 20 116\"/>\n",
       "<path stroke-width=\"1\" stroke=\"black\" d=\"M 122 103 246 82\"/>\n",
       "<path stroke-width=\"1\" stroke=\"black\" d=\"M 197 120 251 143\"/>\n",
       "<path stroke-width=\"1\" stroke=\"black\" d=\"M 197 120 153 125\"/>\n",
       "<path stroke-width=\"1\" stroke=\"black\" d=\"M 197 120 246 82\"/>\n",
       "<path stroke-width=\"1\" stroke=\"black\" d=\"M 171 45 131 68\"/>\n",
       "<path stroke-width=\"1\" stroke=\"black\" d=\"M 171 45 162 20\"/>\n",
       "<path stroke-width=\"1\" stroke=\"black\" d=\"M 20 116 122 103\"/>\n",
       "<path stroke-width=\"1\" stroke=\"black\" d=\"M 20 116 28 91\"/>\n",
       "<path stroke-width=\"1\" stroke=\"black\" d=\"M 131 68 246 82\"/>\n",
       "<path stroke-width=\"1\" stroke=\"black\" d=\"M 131 68 260 73\"/>\n",
       "<path stroke-width=\"1\" stroke=\"black\" d=\"M 388 216 264 200\"/>\n",
       "<path stroke-width=\"1\" stroke=\"black\" d=\"M 388 216 353 168\"/>\n",
       "<path stroke-width=\"1\" stroke=\"black\" d=\"M 313 34 260 73\"/>\n",
       "<path stroke-width=\"1\" stroke=\"black\" d=\"M 313 34 246 82\"/>\n",
       "<path stroke-width=\"1\" stroke=\"black\" d=\"M 331 143 264 200\"/>\n",
       "<path stroke-width=\"1\" stroke=\"black\" d=\"M 331 143 353 168\"/>\n",
       "<path stroke-width=\"1\" stroke=\"black\" d=\"M 331 143 246 82\"/>\n",
       "<path stroke-width=\"1\" stroke=\"black\" d=\"M 171 45 260 73\"/>\n",
       "<path stroke-width=\"1\" stroke=\"black\" d=\"M 366 61 260 73\"/>\n",
       "<path stroke-width=\"1\" stroke=\"black\" d=\"M 420 202 264 200\"/>\n",
       "<path stroke-width=\"1\" stroke=\"black\" d=\"M 420 202 353 168\"/>\n",
       "<path stroke-width=\"1\" stroke=\"black\" d=\"M 228 32 260 73\"/>\n",
       "<path stroke-width=\"1\" stroke=\"black\" d=\"M 228 32 246 82\"/>\n",
       "<path stroke-width=\"1\" stroke=\"black\" d=\"M 131 68 28 91\"/>\n",
       "<path stroke-width=\"1\" stroke=\"black\" d=\"M 131 68 122 103\"/>\n",
       "<path stroke-width=\"1\" stroke=\"black\" d=\"M 131 68 171 45\"/>\n",
       "<path stroke-width=\"1\" stroke=\"black\" d=\"M 366 61 246 82\"/>\n",
       "<path stroke-width=\"1\" stroke=\"black\" d=\"M 220 320 264 277\"/>\n",
       "<path stroke-width=\"1\" stroke=\"black\" d=\"M 171 45 246 82\"/>\n",
       "<path stroke-width=\"1\" stroke=\"black\" d=\"M 344 107 282 125\"/>\n",
       "<path stroke-width=\"1\" stroke=\"black\" d=\"M 246 82 282 125\"/>\n",
       "<path stroke-width=\"1\" stroke=\"black\" d=\"M 246 82 197 100\"/>\n",
       "<path stroke-width=\"1\" stroke=\"black\" d=\"M 246 82 282 153\"/>\n",
       "<path stroke-width=\"1\" stroke=\"black\" d=\"M 246 82 348 43\"/>\n",
       "<path stroke-width=\"1\" stroke=\"black\" d=\"M 246 82 273 27\"/>\n",
       "<path stroke-width=\"1\" stroke=\"black\" d=\"M 246 82 313 34\"/>\n",
       "<path stroke-width=\"1\" stroke=\"black\" d=\"M 246 82 331 143\"/>\n",
       "<path stroke-width=\"1\" stroke=\"black\" d=\"M 246 82 366 61\"/>\n",
       "<path stroke-width=\"1\" stroke=\"black\" d=\"M 246 82 228 32\"/>\n",
       "<path stroke-width=\"1\" stroke=\"black\" d=\"M 246 82 131 68\"/>\n",
       "<path stroke-width=\"1\" stroke=\"black\" d=\"M 246 82 162 20\"/>\n",
       "<path stroke-width=\"1\" stroke=\"black\" d=\"M 246 82 122 103\"/>\n",
       "<path stroke-width=\"1\" stroke=\"black\" d=\"M 246 82 197 120\"/>\n",
       "<path stroke-width=\"1\" stroke=\"black\" d=\"M 246 82 171 45\"/>\n",
       "<path stroke-width=\"1\" stroke=\"black\" d=\"M 246 82 344 107\"/>\n",
       "<path stroke-width=\"1\" stroke=\"black\" d=\"M 260 73 246 82\"/>\n",
       "<path stroke-width=\"1\" stroke=\"black\" d=\"M 260 73 153 125\"/>\n",
       "<path stroke-width=\"1\" stroke=\"black\" d=\"M 260 73 344 107\"/>\n",
       "<path stroke-width=\"1\" stroke=\"black\" d=\"M 260 73 171 45\"/>\n",
       "<path stroke-width=\"1\" stroke=\"black\" d=\"M 344 107 260 73\"/>\n",
       "<path stroke-width=\"1\" stroke=\"black\" d=\"M 344 107 246 82\"/>\n",
       "<path stroke-width=\"1\" stroke=\"black\" d=\"M 153 125 264 200\"/>\n",
       "<path stroke-width=\"1\" stroke=\"black\" d=\"M 153 125 20 116\"/>\n",
       "<path stroke-width=\"1\" stroke=\"black\" d=\"M 153 125 28 91\"/>\n",
       "<path stroke-width=\"1\" stroke=\"black\" d=\"M 153 125 197 120\"/>\n",
       "<path stroke-width=\"1\" stroke=\"black\" d=\"M 153 125 260 73\"/>\n",
       "<path stroke-width=\"1\" stroke=\"black\" d=\"M 344 107 353 168\"/>\n",
       "<path stroke-width=\"1\" stroke=\"black\" d=\"M 153 125 246 82\"/>\n",
       "<path stroke-width=\"1\" stroke=\"black\" d=\"M 260 73 282 125\"/>\n",
       "<path stroke-width=\"1\" stroke=\"black\" d=\"M 260 73 348 43\"/>\n",
       "<path stroke-width=\"1\" stroke=\"black\" d=\"M 260 73 273 27\"/>\n",
       "<path stroke-width=\"1\" stroke=\"black\" d=\"M 260 73 313 34\"/>\n",
       "<path stroke-width=\"1\" stroke=\"black\" d=\"M 260 73 366 61\"/>\n",
       "<path stroke-width=\"1\" stroke=\"black\" d=\"M 260 73 228 32\"/>\n",
       "<path stroke-width=\"1\" stroke=\"black\" d=\"M 260 73 131 68\"/>\n",
       "<path stroke-width=\"1\" stroke=\"black\" d=\"M 260 73 251 143\"/>\n",
       "<path stroke-width=\"1\" stroke=\"black\" d=\"M 220 320 211 275\"/>\n",
       "<path stroke-width=\"1\" stroke=\"black\" d=\"M 273 27 246 82\"/>\n",
       "<path stroke-width=\"1\" stroke=\"black\" d=\"M 273 27 260 73\"/>\n",
       "<path stroke-width=\"1\" stroke=\"black\" d=\"M 353 168 388 216\"/>\n",
       "<path stroke-width=\"1\" stroke=\"black\" d=\"M 353 168 331 143\"/>\n",
       "<path stroke-width=\"1\" stroke=\"black\" d=\"M 353 168 420 202\"/>\n",
       "<path stroke-width=\"1\" stroke=\"black\" d=\"M 353 168 344 107\"/>\n",
       "<path stroke-width=\"1\" stroke=\"black\" d=\"M 251 143 264 200\"/>\n",
       "<path stroke-width=\"1\" stroke=\"black\" d=\"M 251 143 353 168\"/>\n",
       "<path stroke-width=\"1\" stroke=\"black\" d=\"M 251 143 304 191\"/>\n",
       "<path stroke-width=\"1\" stroke=\"black\" d=\"M 251 143 340 186\"/>\n",
       "<path stroke-width=\"1\" stroke=\"black\" d=\"M 251 143 282 125\"/>\n",
       "<path stroke-width=\"1\" stroke=\"black\" d=\"M 251 143 197 100\"/>\n",
       "<path stroke-width=\"1\" stroke=\"black\" d=\"M 251 143 282 153\"/>\n",
       "<path stroke-width=\"1\" stroke=\"black\" d=\"M 251 143 122 103\"/>\n",
       "<path stroke-width=\"1\" stroke=\"black\" d=\"M 251 143 197 120\"/>\n",
       "<path stroke-width=\"1\" stroke=\"black\" d=\"M 251 143 260 73\"/>\n",
       "<path stroke-width=\"1\" stroke=\"black\" d=\"M 304 191 264 200\"/>\n",
       "<path stroke-width=\"1\" stroke=\"black\" d=\"M 353 168 282 153\"/>\n",
       "<path stroke-width=\"1\" stroke=\"black\" d=\"M 353 168 340 186\"/>\n",
       "<path stroke-width=\"1\" stroke=\"black\" d=\"M 353 168 304 191\"/>\n",
       "<path stroke-width=\"1\" stroke=\"black\" d=\"M 353 168 251 143\"/>\n",
       "<path stroke-width=\"1\" stroke=\"black\" d=\"M 264 200 251 143\"/>\n",
       "<path stroke-width=\"1\" stroke=\"black\" d=\"M 264 200 304 191\"/>\n",
       "<path stroke-width=\"1\" stroke=\"black\" d=\"M 264 200 255 255\"/>\n",
       "<path stroke-width=\"1\" stroke=\"black\" d=\"M 264 200 211 275\"/>\n",
       "<path stroke-width=\"1\" stroke=\"black\" d=\"M 264 200 264 277\"/>\n",
       "<path stroke-width=\"1\" stroke=\"black\" d=\"M 264 200 340 186\"/>\n",
       "<path stroke-width=\"1\" stroke=\"black\" d=\"M 264 200 282 125\"/>\n",
       "<path stroke-width=\"1\" stroke=\"black\" d=\"M 304 191 353 168\"/>\n",
       "<path stroke-width=\"1\" stroke=\"black\" d=\"M 264 200 188 252\"/>\n",
       "<path stroke-width=\"1\" stroke=\"black\" d=\"M 264 200 335 236\"/>\n",
       "<path stroke-width=\"1\" stroke=\"black\" d=\"M 264 200 282 153\"/>\n",
       "<path stroke-width=\"1\" stroke=\"black\" d=\"M 264 200 388 216\"/>\n",
       "<path stroke-width=\"1\" stroke=\"black\" d=\"M 264 200 331 143\"/>\n",
       "<path stroke-width=\"1\" stroke=\"black\" d=\"M 264 200 420 202\"/>\n",
       "<path stroke-width=\"1\" stroke=\"black\" d=\"M 264 200 153 125\"/>\n",
       "<path stroke-width=\"1\" stroke=\"black\" d=\"M 353 168 264 200\"/>\n",
       "<path stroke-width=\"1\" stroke=\"black\" d=\"M 264 200 122 212\"/>\n",
       "<path stroke-width=\"1\" stroke=\"black\" d=\"M 304 191 251 143\"/>\n",
       "<path stroke-width=\"1\" stroke=\"black\" d=\"M 304 191 340 186\"/>\n",
       "<path stroke-width=\"1\" stroke=\"black\" d=\"M 304 191 335 236\"/>\n",
       "<path stroke-width=\"1\" stroke=\"black\" d=\"M 282 125 246 82\"/>\n",
       "<path stroke-width=\"1\" stroke=\"black\" d=\"M 197 100 251 143\"/>\n",
       "<path stroke-width=\"1\" stroke=\"black\" d=\"M 197 100 246 82\"/>\n",
       "<path stroke-width=\"1\" stroke=\"black\" d=\"M 188 252 264 200\"/>\n",
       "<path stroke-width=\"1\" stroke=\"black\" d=\"M 188 252 255 255\"/>\n",
       "<path stroke-width=\"1\" stroke=\"black\" d=\"M 188 252 211 275\"/>\n",
       "<path stroke-width=\"1\" stroke=\"black\" d=\"M 122 212 264 200\"/>\n",
       "<path stroke-width=\"1\" stroke=\"black\" d=\"M 282 125 260 73\"/>\n",
       "<path stroke-width=\"1\" stroke=\"black\" d=\"M 335 236 264 200\"/>\n",
       "<path stroke-width=\"1\" stroke=\"black\" d=\"M 282 153 264 200\"/>\n",
       "<path stroke-width=\"1\" stroke=\"black\" d=\"M 282 153 353 168\"/>\n",
       "<path stroke-width=\"1\" stroke=\"black\" d=\"M 282 153 251 143\"/>\n",
       "<path stroke-width=\"1\" stroke=\"black\" d=\"M 282 153 304 191\"/>\n",
       "<path stroke-width=\"1\" stroke=\"black\" d=\"M 282 153 246 82\"/>\n",
       "<path stroke-width=\"1\" stroke=\"black\" d=\"M 348 43 260 73\"/>\n",
       "<path stroke-width=\"1\" stroke=\"black\" d=\"M 348 43 246 82\"/>\n",
       "<path stroke-width=\"1\" stroke=\"black\" d=\"M 335 236 304 191\"/>\n",
       "<path stroke-width=\"1\" stroke=\"black\" d=\"M 246 82 153 125\"/>\n",
       "<path stroke-width=\"1\" stroke=\"black\" d=\"M 282 125 344 107\"/>\n",
       "<path stroke-width=\"1\" stroke=\"black\" d=\"M 282 125 264 200\"/>\n",
       "<path stroke-width=\"1\" stroke=\"black\" d=\"M 304 191 282 153\"/>\n",
       "<path stroke-width=\"1\" stroke=\"black\" d=\"M 255 255 264 200\"/>\n",
       "<path stroke-width=\"1\" stroke=\"black\" d=\"M 255 255 264 277\"/>\n",
       "<path stroke-width=\"1\" stroke=\"black\" d=\"M 255 255 188 252\"/>\n",
       "<path stroke-width=\"1\" stroke=\"black\" d=\"M 211 275 264 200\"/>\n",
       "<path stroke-width=\"1\" stroke=\"black\" d=\"M 211 275 264 277\"/>\n",
       "<path stroke-width=\"1\" stroke=\"black\" d=\"M 211 275 188 252\"/>\n",
       "<path stroke-width=\"1\" stroke=\"black\" d=\"M 282 125 251 143\"/>\n",
       "<path stroke-width=\"1\" stroke=\"black\" d=\"M 211 275 220 320\"/>\n",
       "<path stroke-width=\"1\" stroke=\"black\" d=\"M 264 277 255 255\"/>\n",
       "<path stroke-width=\"1\" stroke=\"black\" d=\"M 264 277 211 275\"/>\n",
       "<path stroke-width=\"1\" stroke=\"black\" d=\"M 264 277 220 320\"/>\n",
       "<path stroke-width=\"1\" stroke=\"black\" d=\"M 340 186 264 200\"/>\n",
       "<path stroke-width=\"1\" stroke=\"black\" d=\"M 340 186 353 168\"/>\n",
       "<path stroke-width=\"1\" stroke=\"black\" d=\"M 340 186 251 143\"/>\n",
       "<path stroke-width=\"1\" stroke=\"black\" d=\"M 340 186 304 191\"/>\n",
       "<path stroke-width=\"1\" stroke=\"black\" d=\"M 264 277 264 200\"/>\n",
       "<path stroke-width=\"1\" stroke=\"black\" d=\"M 246 82 260 73\"/>\n",
       "<circle cx=\"264\" cy=\"200\" r=\"7.0\" style=\"fill:red;stroke:black;stroke-width:1.0\"/>\n",
       "<circle cx=\"353\" cy=\"168\" r=\"7.0\" style=\"fill:red;stroke:black;stroke-width:1.0\"/>\n",
       "<circle cx=\"251\" cy=\"143\" r=\"7.0\" style=\"fill:red;stroke:black;stroke-width:1.0\"/>\n",
       "<circle cx=\"304\" cy=\"191\" r=\"7.0\" style=\"fill:red;stroke:black;stroke-width:1.0\"/>\n",
       "<circle cx=\"255\" cy=\"255\" r=\"7.0\" style=\"fill:red;stroke:black;stroke-width:1.0\"/>\n",
       "<circle cx=\"211\" cy=\"275\" r=\"7.0\" style=\"fill:red;stroke:black;stroke-width:1.0\"/>\n",
       "<circle cx=\"264\" cy=\"277\" r=\"7.0\" style=\"fill:red;stroke:black;stroke-width:1.0\"/>\n",
       "<circle cx=\"340\" cy=\"186\" r=\"7.0\" style=\"fill:red;stroke:black;stroke-width:1.0\"/>\n",
       "<circle cx=\"282\" cy=\"125\" r=\"7.0\" style=\"fill:red;stroke:black;stroke-width:1.0\"/>\n",
       "<circle cx=\"197\" cy=\"100\" r=\"7.0\" style=\"fill:blue;stroke:black;stroke-width:1.0\"/>\n",
       "<circle cx=\"188\" cy=\"252\" r=\"7.0\" style=\"fill:red;stroke:black;stroke-width:1.0\"/>\n",
       "<circle cx=\"122\" cy=\"212\" r=\"7.0\" style=\"fill:red;stroke:black;stroke-width:1.0\"/>\n",
       "<circle cx=\"335\" cy=\"236\" r=\"7.0\" style=\"fill:red;stroke:black;stroke-width:1.0\"/>\n",
       "<circle cx=\"282\" cy=\"153\" r=\"7.0\" style=\"fill:red;stroke:black;stroke-width:1.0\"/>\n",
       "<circle cx=\"348\" cy=\"43\" r=\"7.0\" style=\"fill:blue;stroke:black;stroke-width:1.0\"/>\n",
       "<circle cx=\"273\" cy=\"27\" r=\"7.0\" style=\"fill:blue;stroke:black;stroke-width:1.0\"/>\n",
       "<circle cx=\"220\" cy=\"320\" r=\"7.0\" style=\"fill:red;stroke:black;stroke-width:1.0\"/>\n",
       "<circle cx=\"388\" cy=\"216\" r=\"7.0\" style=\"fill:red;stroke:black;stroke-width:1.0\"/>\n",
       "<circle cx=\"313\" cy=\"34\" r=\"7.0\" style=\"fill:blue;stroke:black;stroke-width:1.0\"/>\n",
       "<circle cx=\"331\" cy=\"143\" r=\"7.0\" style=\"fill:red;stroke:black;stroke-width:1.0\"/>\n",
       "<circle cx=\"366\" cy=\"61\" r=\"7.0\" style=\"fill:blue;stroke:black;stroke-width:1.0\"/>\n",
       "<circle cx=\"420\" cy=\"202\" r=\"7.0\" style=\"fill:red;stroke:black;stroke-width:1.0\"/>\n",
       "<circle cx=\"228\" cy=\"32\" r=\"7.0\" style=\"fill:blue;stroke:black;stroke-width:1.0\"/>\n",
       "<circle cx=\"131\" cy=\"68\" r=\"7.0\" style=\"fill:blue;stroke:black;stroke-width:1.0\"/>\n",
       "<circle cx=\"20\" cy=\"116\" r=\"7.0\" style=\"fill:blue;stroke:black;stroke-width:1.0\"/>\n",
       "<circle cx=\"28\" cy=\"91\" r=\"7.0\" style=\"fill:blue;stroke:black;stroke-width:1.0\"/>\n",
       "<circle cx=\"162\" cy=\"20\" r=\"7.0\" style=\"fill:blue;stroke:black;stroke-width:1.0\"/>\n",
       "<circle cx=\"122\" cy=\"103\" r=\"7.0\" style=\"fill:blue;stroke:black;stroke-width:1.0\"/>\n",
       "<circle cx=\"197\" cy=\"120\" r=\"7.0\" style=\"fill:blue;stroke:black;stroke-width:1.0\"/>\n",
       "<circle cx=\"171\" cy=\"45\" r=\"7.0\" style=\"fill:blue;stroke:black;stroke-width:1.0\"/>\n",
       "<circle cx=\"344\" cy=\"107\" r=\"7.0\" style=\"fill:blue;stroke:black;stroke-width:1.0\"/>\n",
       "<circle cx=\"153\" cy=\"125\" r=\"7.0\" style=\"fill:blue;stroke:black;stroke-width:1.0\"/>\n",
       "<circle cx=\"260\" cy=\"73\" r=\"7.0\" style=\"fill:blue;stroke:black;stroke-width:1.0\"/>\n",
       "<circle cx=\"246\" cy=\"82\" r=\"7.0\" style=\"fill:blue;stroke:black;stroke-width:1.0\"/>\n",
       "</svg>"
      ],
      "text/plain": [
       "<IPython.core.display.SVG object>"
      ]
     },
     "execution_count": 7,
     "metadata": {},
     "output_type": "execute_result"
    }
   ],
   "source": [
    "image = visualize_graph(adjacency, position, labels=labels_true)\n",
    "SVG(image)"
   ]
  },
  {
   "cell_type": "markdown",
   "metadata": {},
   "source": [
    "## To do\n",
    "\n",
    "* Cluster the graph by the hierarchical Louvain algorithm (divisive algorithm, top-down).\n",
    "* Display the dendrogram.\n",
    "* How many clusters are there at depth 1?\n",
    "* Display the graph with the corresponding clustering.\n",
    "* How many clusters are there at depth 2?"
   ]
  },
  {
   "cell_type": "code",
   "execution_count": 8,
   "metadata": {},
   "outputs": [],
   "source": [
    "louvain = LouvainIteration()"
   ]
  },
  {
   "cell_type": "code",
   "execution_count": 9,
   "metadata": {},
   "outputs": [
    {
     "ename": "TypeError",
     "evalue": "No matching signature found",
     "output_type": "error",
     "traceback": [
      "\u001b[1;31m---------------------------------------------------------------------------\u001b[0m",
      "\u001b[1;31mTypeError\u001b[0m                                 Traceback (most recent call last)",
      "Cell \u001b[1;32mIn[9], line 1\u001b[0m\n\u001b[1;32m----> 1\u001b[0m dendrogram \u001b[38;5;241m=\u001b[39m \u001b[43mlouvain\u001b[49m\u001b[38;5;241;43m.\u001b[39;49m\u001b[43mfit_predict\u001b[49m\u001b[43m(\u001b[49m\u001b[43madjacency\u001b[49m\u001b[43m)\u001b[49m\n",
      "File \u001b[1;32mc:\\Users\\rafin\\AppData\\Local\\Programs\\Python\\Python311\\Lib\\site-packages\\sknetwork\\hierarchy\\base.py:67\u001b[0m, in \u001b[0;36mBaseHierarchy.fit_predict\u001b[1;34m(self, *args, **kwargs)\u001b[0m\n\u001b[0;32m     59\u001b[0m \u001b[38;5;28;01mdef\u001b[39;00m \u001b[38;5;21mfit_predict\u001b[39m(\u001b[38;5;28mself\u001b[39m, \u001b[38;5;241m*\u001b[39margs, \u001b[38;5;241m*\u001b[39m\u001b[38;5;241m*\u001b[39mkwargs) \u001b[38;5;241m-\u001b[39m\u001b[38;5;241m>\u001b[39m np\u001b[38;5;241m.\u001b[39mndarray:\n\u001b[0;32m     60\u001b[0m \u001b[38;5;250m    \u001b[39m\u001b[38;5;124;03m\"\"\"Fit algorithm to data and return the dendrogram. Same parameters as the ``fit`` method.\u001b[39;00m\n\u001b[0;32m     61\u001b[0m \n\u001b[0;32m     62\u001b[0m \u001b[38;5;124;03m    Returns\u001b[39;00m\n\u001b[1;32m   (...)\u001b[0m\n\u001b[0;32m     65\u001b[0m \u001b[38;5;124;03m        Dendrogram.\u001b[39;00m\n\u001b[0;32m     66\u001b[0m \u001b[38;5;124;03m    \"\"\"\u001b[39;00m\n\u001b[1;32m---> 67\u001b[0m     \u001b[38;5;28;43mself\u001b[39;49m\u001b[38;5;241;43m.\u001b[39;49m\u001b[43mfit\u001b[49m\u001b[43m(\u001b[49m\u001b[38;5;241;43m*\u001b[39;49m\u001b[43margs\u001b[49m\u001b[43m,\u001b[49m\u001b[43m \u001b[49m\u001b[38;5;241;43m*\u001b[39;49m\u001b[38;5;241;43m*\u001b[39;49m\u001b[43mkwargs\u001b[49m\u001b[43m)\u001b[49m\n\u001b[0;32m     68\u001b[0m     \u001b[38;5;28;01mreturn\u001b[39;00m \u001b[38;5;28mself\u001b[39m\u001b[38;5;241m.\u001b[39mdendrogram_\n",
      "File \u001b[1;32mc:\\Users\\rafin\\AppData\\Local\\Programs\\Python\\Python311\\Lib\\site-packages\\sknetwork\\hierarchy\\louvain_hierarchy.py:148\u001b[0m, in \u001b[0;36mLouvainIteration.fit\u001b[1;34m(self, input_matrix, force_bipartite)\u001b[0m\n\u001b[0;32m    146\u001b[0m \u001b[38;5;28mself\u001b[39m\u001b[38;5;241m.\u001b[39m_init_vars()\n\u001b[0;32m    147\u001b[0m adjacency, \u001b[38;5;28mself\u001b[39m\u001b[38;5;241m.\u001b[39mbipartite \u001b[38;5;241m=\u001b[39m get_adjacency(input_matrix, force_bipartite\u001b[38;5;241m=\u001b[39mforce_bipartite)\n\u001b[1;32m--> 148\u001b[0m tree \u001b[38;5;241m=\u001b[39m \u001b[38;5;28;43mself\u001b[39;49m\u001b[38;5;241;43m.\u001b[39;49m\u001b[43m_recursive_louvain\u001b[49m\u001b[43m(\u001b[49m\u001b[43madjacency\u001b[49m\u001b[43m,\u001b[49m\u001b[43m \u001b[49m\u001b[38;5;28;43mself\u001b[39;49m\u001b[38;5;241;43m.\u001b[39;49m\u001b[43mdepth\u001b[49m\u001b[43m)\u001b[49m\n\u001b[0;32m    149\u001b[0m dendrogram, _ \u001b[38;5;241m=\u001b[39m get_dendrogram(tree)\n\u001b[0;32m    150\u001b[0m dendrogram \u001b[38;5;241m=\u001b[39m np\u001b[38;5;241m.\u001b[39marray(dendrogram)\n",
      "File \u001b[1;32mc:\\Users\\rafin\\AppData\\Local\\Programs\\Python\\Python311\\Lib\\site-packages\\sknetwork\\hierarchy\\louvain_hierarchy.py:111\u001b[0m, in \u001b[0;36mLouvainIteration._recursive_louvain\u001b[1;34m(self, adjacency, depth, nodes)\u001b[0m\n\u001b[0;32m    108\u001b[0m     nodes \u001b[38;5;241m=\u001b[39m np\u001b[38;5;241m.\u001b[39marange(n)\n\u001b[0;32m    110\u001b[0m \u001b[38;5;28;01mif\u001b[39;00m adjacency\u001b[38;5;241m.\u001b[39mnnz \u001b[38;5;129;01mand\u001b[39;00m depth:\n\u001b[1;32m--> 111\u001b[0m     labels \u001b[38;5;241m=\u001b[39m \u001b[38;5;28;43mself\u001b[39;49m\u001b[38;5;241;43m.\u001b[39;49m\u001b[43m_clustering_method\u001b[49m\u001b[38;5;241;43m.\u001b[39;49m\u001b[43mfit_predict\u001b[49m\u001b[43m(\u001b[49m\u001b[43madjacency\u001b[49m\u001b[43m)\u001b[49m\n\u001b[0;32m    112\u001b[0m \u001b[38;5;28;01melse\u001b[39;00m:\n\u001b[0;32m    113\u001b[0m     labels \u001b[38;5;241m=\u001b[39m np\u001b[38;5;241m.\u001b[39mzeros(n)\n",
      "File \u001b[1;32mc:\\Users\\rafin\\AppData\\Local\\Programs\\Python\\Python311\\Lib\\site-packages\\sknetwork\\clustering\\base.py:64\u001b[0m, in \u001b[0;36mBaseClustering.fit_predict\u001b[1;34m(self, *args, **kwargs)\u001b[0m\n\u001b[0;32m     56\u001b[0m \u001b[38;5;28;01mdef\u001b[39;00m \u001b[38;5;21mfit_predict\u001b[39m(\u001b[38;5;28mself\u001b[39m, \u001b[38;5;241m*\u001b[39margs, \u001b[38;5;241m*\u001b[39m\u001b[38;5;241m*\u001b[39mkwargs) \u001b[38;5;241m-\u001b[39m\u001b[38;5;241m>\u001b[39m np\u001b[38;5;241m.\u001b[39mndarray:\n\u001b[0;32m     57\u001b[0m \u001b[38;5;250m    \u001b[39m\u001b[38;5;124;03m\"\"\"Fit algorithm to the data and return the labels. Same parameters as the ``fit`` method.\u001b[39;00m\n\u001b[0;32m     58\u001b[0m \n\u001b[0;32m     59\u001b[0m \u001b[38;5;124;03m    Returns\u001b[39;00m\n\u001b[1;32m   (...)\u001b[0m\n\u001b[0;32m     62\u001b[0m \u001b[38;5;124;03m        Labels.\u001b[39;00m\n\u001b[0;32m     63\u001b[0m \u001b[38;5;124;03m    \"\"\"\u001b[39;00m\n\u001b[1;32m---> 64\u001b[0m     \u001b[38;5;28;43mself\u001b[39;49m\u001b[38;5;241;43m.\u001b[39;49m\u001b[43mfit\u001b[49m\u001b[43m(\u001b[49m\u001b[38;5;241;43m*\u001b[39;49m\u001b[43margs\u001b[49m\u001b[43m,\u001b[49m\u001b[43m \u001b[49m\u001b[38;5;241;43m*\u001b[39;49m\u001b[38;5;241;43m*\u001b[39;49m\u001b[43mkwargs\u001b[49m\u001b[43m)\u001b[49m\n\u001b[0;32m     65\u001b[0m     \u001b[38;5;28;01mreturn\u001b[39;00m \u001b[38;5;28mself\u001b[39m\u001b[38;5;241m.\u001b[39mpredict()\n",
      "File \u001b[1;32mc:\\Users\\rafin\\AppData\\Local\\Programs\\Python\\Python311\\Lib\\site-packages\\sknetwork\\clustering\\louvain.py:276\u001b[0m, in \u001b[0;36mLouvain.fit\u001b[1;34m(self, input_matrix, force_bipartite)\u001b[0m\n\u001b[0;32m    274\u001b[0m count \u001b[38;5;241m+\u001b[39m\u001b[38;5;241m=\u001b[39m \u001b[38;5;241m1\u001b[39m\n\u001b[0;32m    275\u001b[0m labels \u001b[38;5;241m=\u001b[39m np\u001b[38;5;241m.\u001b[39marange(n)\n\u001b[1;32m--> 276\u001b[0m labels, increase \u001b[38;5;241m=\u001b[39m \u001b[38;5;28;43mself\u001b[39;49m\u001b[38;5;241;43m.\u001b[39;49m\u001b[43m_optimize\u001b[49m\u001b[43m(\u001b[49m\u001b[43mlabels\u001b[49m\u001b[43m,\u001b[49m\u001b[43m \u001b[49m\u001b[43madjacency\u001b[49m\u001b[43m,\u001b[49m\u001b[43m \u001b[49m\u001b[43mout_weights\u001b[49m\u001b[43m,\u001b[49m\u001b[43m \u001b[49m\u001b[43min_weights\u001b[49m\u001b[43m)\u001b[49m\n\u001b[0;32m    277\u001b[0m _, labels \u001b[38;5;241m=\u001b[39m np\u001b[38;5;241m.\u001b[39munique(labels, return_inverse\u001b[38;5;241m=\u001b[39m\u001b[38;5;28;01mTrue\u001b[39;00m)\n\u001b[0;32m    278\u001b[0m adjacency, out_weights, in_weights \u001b[38;5;241m=\u001b[39m \u001b[38;5;28mself\u001b[39m\u001b[38;5;241m.\u001b[39m_aggregate(labels, adjacency, out_weights, in_weights)\n",
      "File \u001b[1;32mc:\\Users\\rafin\\AppData\\Local\\Programs\\Python\\Python311\\Lib\\site-packages\\sknetwork\\clustering\\louvain.py:144\u001b[0m, in \u001b[0;36mLouvain._optimize\u001b[1;34m(self, labels, adjacency, out_weights, in_weights)\u001b[0m\n\u001b[0;32m    142\u001b[0m cluster_weights \u001b[38;5;241m=\u001b[39m np\u001b[38;5;241m.\u001b[39mzeros_like(out_cluster_weights)\u001b[38;5;241m.\u001b[39mastype(np\u001b[38;5;241m.\u001b[39mfloat32)\n\u001b[0;32m    143\u001b[0m self_loops \u001b[38;5;241m=\u001b[39m adjacency\u001b[38;5;241m.\u001b[39mdiagonal()\u001b[38;5;241m.\u001b[39mastype(np\u001b[38;5;241m.\u001b[39mfloat32)\n\u001b[1;32m--> 144\u001b[0m \u001b[38;5;28;01mreturn\u001b[39;00m \u001b[43moptimize_core\u001b[49m\u001b[43m(\u001b[49m\u001b[43mlabels\u001b[49m\u001b[43m,\u001b[49m\u001b[43m \u001b[49m\u001b[43mindices\u001b[49m\u001b[43m,\u001b[49m\u001b[43m \u001b[49m\u001b[43mindptr\u001b[49m\u001b[43m,\u001b[49m\u001b[43m \u001b[49m\u001b[43mdata\u001b[49m\u001b[43m,\u001b[49m\u001b[43m \u001b[49m\u001b[43mout_weights\u001b[49m\u001b[43m,\u001b[49m\u001b[43m \u001b[49m\u001b[43min_weights\u001b[49m\u001b[43m,\u001b[49m\u001b[43m \u001b[49m\u001b[43mout_cluster_weights\u001b[49m\u001b[43m,\u001b[49m\n\u001b[0;32m    145\u001b[0m \u001b[43m                     \u001b[49m\u001b[43min_cluster_weights\u001b[49m\u001b[43m,\u001b[49m\u001b[43m \u001b[49m\u001b[43mcluster_weights\u001b[49m\u001b[43m,\u001b[49m\u001b[43m \u001b[49m\u001b[43mself_loops\u001b[49m\u001b[43m,\u001b[49m\u001b[43m \u001b[49m\u001b[38;5;28;43mself\u001b[39;49m\u001b[38;5;241;43m.\u001b[39;49m\u001b[43mresolution\u001b[49m\u001b[43m,\u001b[49m\u001b[43m \u001b[49m\u001b[38;5;28;43mself\u001b[39;49m\u001b[38;5;241;43m.\u001b[39;49m\u001b[43mtol_optimization\u001b[49m\u001b[43m)\u001b[49m\n",
      "File \u001b[1;32mc:\\Users\\rafin\\AppData\\Local\\Programs\\Python\\Python311\\Lib\\site-packages\\sknetwork\\clustering\\louvain_core.pyx:10\u001b[0m, in \u001b[0;36msknetwork.clustering.louvain_core.__pyx_fused_cpdef\u001b[1;34m()\u001b[0m\n",
      "\u001b[1;31mTypeError\u001b[0m: No matching signature found"
     ]
    }
   ],
   "source": [
    "dendrogram = louvain.fit_predict(adjacency)"
   ]
  },
  {
   "cell_type": "code",
   "execution_count": null,
   "metadata": {},
   "outputs": [],
   "source": [
    "image = visualize_dendrogram(dendrogram)\n",
    "SVG(image)"
   ]
  },
  {
   "cell_type": "code",
   "execution_count": null,
   "metadata": {},
   "outputs": [],
   "source": [
    "# find a clustering with n_clusters (at least n_clusters, if there is no cut with n_clusters)\n",
    "labels = cut_straight(dendrogram, n_clusters=2)"
   ]
  },
  {
   "cell_type": "code",
   "execution_count": null,
   "metadata": {},
   "outputs": [],
   "source": [
    "len(set(labels))"
   ]
  },
  {
   "cell_type": "code",
   "execution_count": null,
   "metadata": {},
   "outputs": [],
   "source": [
    "image = visualize_graph(adjacency, position, labels=labels)\n",
    "SVG(image)"
   ]
  },
  {
   "cell_type": "markdown",
   "metadata": {},
   "source": [
    "## To do\n",
    "\n",
    "* Cluster the graph by the Paris algorithm.\n",
    "* Display the dendrogram.\n",
    "* Display the graph with the top-2 clusters. Compare this clustering to the ground-truth labels.\n",
    "* Display the graph with the top-4 clusters. Compare this clustering with that given by Louvain (depth 1). \n",
    "* Display the corresponding aggregate dendrogram (check the parameters of the function ``cut_straight``)."
   ]
  },
  {
   "cell_type": "code",
   "execution_count": null,
   "metadata": {},
   "outputs": [],
   "source": [
    "paris = Paris()"
   ]
  },
  {
   "cell_type": "code",
   "execution_count": null,
   "metadata": {},
   "outputs": [],
   "source": [
    "dendrogram = paris.fit_predict(adjacency)"
   ]
  },
  {
   "cell_type": "code",
   "execution_count": null,
   "metadata": {},
   "outputs": [],
   "source": [
    "image = visualize_dendrogram(dendrogram, names=np.arange(34))\n",
    "SVG(image)"
   ]
  },
  {
   "cell_type": "markdown",
   "metadata": {},
   "source": [
    "## Openflights\n"
   ]
  },
  {
   "cell_type": "code",
   "execution_count": null,
   "metadata": {},
   "outputs": [],
   "source": [
    "dataset = openflights"
   ]
  },
  {
   "cell_type": "code",
   "execution_count": null,
   "metadata": {},
   "outputs": [],
   "source": [
    "adjacency = dataset.adjacency\n",
    "position = dataset.position\n",
    "names = dataset.names"
   ]
  },
  {
   "cell_type": "code",
   "execution_count": null,
   "metadata": {},
   "outputs": [],
   "source": [
    "image = visualize_graph(adjacency, position, width=800, height=400, node_size=3, display_edges=False)\n",
    "SVG(image)"
   ]
  },
  {
   "cell_type": "markdown",
   "metadata": {},
   "source": [
    "## To do\n",
    "\n",
    "* Display the same world map with the top-10 clusters found by Paris.<br>\n",
    "Refer to the [tutorial on Louvain](https://scikit-network.readthedocs.io/en/latest/tutorials/clustering/louvain.html) to display the aggregate graph.\n",
    "* Display the aggregate dendrogram formed by the top-40 clusters found by Paris, with the name of the top airport  (in traffic) of each cluster. <br>Check the parameters of the function ``visualize_dendrogram`` for better visualization."
   ]
  },
  {
   "cell_type": "markdown",
   "metadata": {},
   "source": [
    "## 2. Directed graphs"
   ]
  },
  {
   "cell_type": "markdown",
   "metadata": {},
   "source": [
    "## Wikipedia Vitals"
   ]
  },
  {
   "cell_type": "code",
   "execution_count": null,
   "metadata": {},
   "outputs": [],
   "source": [
    "dataset = wikivitals"
   ]
  },
  {
   "cell_type": "code",
   "execution_count": null,
   "metadata": {},
   "outputs": [],
   "source": [
    "adjacency = dataset.adjacency\n",
    "names = dataset.names"
   ]
  },
  {
   "cell_type": "markdown",
   "metadata": {},
   "source": [
    "## To do\n",
    "\n",
    "* Cluster the graph by the Paris algorithm.\n",
    "* Give the size and top-5 articles (in terms of Personalized PageRank) of each of the top-40 clusters found by Paris.\n",
    "* Display the aggregate dendrogram formed by the top-40 clusters, with the name of the top article of each cluster. Comment the results.\n"
   ]
  },
  {
   "cell_type": "markdown",
   "metadata": {},
   "source": [
    "## To do\n",
    "\n",
    "* Complete the following function that returns the nested clusters from a target node in a dendrogram.\n",
    "* Give the size and top-5 articles of each nested cluster from the article **Riverboat**.\n",
    "* Do the same with another article of your choice."
   ]
  },
  {
   "cell_type": "code",
   "execution_count": null,
   "metadata": {},
   "outputs": [],
   "source": [
    "def get_nested_clusters(dendrogram: np.ndarray, node: int): \n",
    "    '''Get the nested clusters of a node, following the path from the corresponding leaf to the root in the dendrogram.\n",
    "    \n",
    "    Parameters\n",
    "    ----------\n",
    "    dendrogram: \n",
    "        Dendrogram\n",
    "    node:\n",
    "        Target node\n",
    "        \n",
    "    Returns\n",
    "    -------\n",
    "    cluster_nested: list of list\n",
    "        Nested clusters, as a partition of the set of nodes \n",
    "        (the k-th nested cluster is the concatenation of the first k lists). \n",
    "        \n",
    "    Example\n",
    "    -------\n",
    "    >>> dendrogram = np.array([[0, 1, 1, 2], [2, 3, 1, 2], [4, 5, 1, 4]])\n",
    "    >>> get_nested_clusters(dendrogram, 0)\n",
    "    [[0], [1], [2, 3]]\n",
    "    '''\n",
    "    n = dendrogram.shape[0] + 1\n",
    "    \n",
    "    cluster = {i: [i] for i in range(n)}\n",
    "    nested_clusters = [[node]]\n",
    "    cluster_index = node\n",
    "    \n",
    "    for t in range(n - 1):\n",
    "        i = int(dendrogram[t][0])\n",
    "        j = int(dendrogram[t][1])\n",
    "        # to be completed\n",
    "    \n",
    "    return nested_clusters"
   ]
  },
  {
   "cell_type": "code",
   "execution_count": null,
   "metadata": {},
   "outputs": [],
   "source": []
  }
 ],
 "metadata": {
  "anaconda-cloud": {},
  "hide_input": false,
  "kernelspec": {
   "display_name": "Python 3",
   "language": "python",
   "name": "python3"
  },
  "language_info": {
   "codemirror_mode": {
    "name": "ipython",
    "version": 3
   },
   "file_extension": ".py",
   "mimetype": "text/x-python",
   "name": "python",
   "nbconvert_exporter": "python",
   "pygments_lexer": "ipython3",
   "version": "3.11.5"
  }
 },
 "nbformat": 4,
 "nbformat_minor": 1
}
